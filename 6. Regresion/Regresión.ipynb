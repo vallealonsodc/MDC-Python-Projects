{
 "cells": [
  {
   "cell_type": "markdown",
   "metadata": {},
   "source": [
    "# Regresión\n",
    "**Autor:** José A. Troyano &nbsp;&nbsp;&nbsp; **Revisor:** Beatriz Pontes &nbsp;&nbsp;&nbsp;     &nbsp;&nbsp;&nbsp; **Última modificación:** 31/03/2023"
   ]
  },
  {
   "cell_type": "markdown",
   "metadata": {},
   "source": [
    "-----------------------------------\n",
    "## Contenido\n",
    "\n",
    "1. <a href=\"#entrenamiento\"> Entrenamiento de un regresor  </a> <br>\n",
    "    1.1. <a href=\"#regresion_lineal\"> Regresión lineal </a><br>\n",
    "    1.2. <a href=\"#estimador_reg_lin\"> El estimador _LinearRegression_ </a> <br>\n",
    "2. <a href=\"#evaluacion\"> Métricas de evaluación  </a> <br>\n",
    "3. <a href=\"#otros\"> Más regresores  </a> <br>\n",
    "4. <a href=\"#dilema\"> _Underfitting_, _good fitting_, _overfitting_ y el dilema sesgo-varianza </a> <br>\n",
    "    4.1. <a href=\"#visualizacion\"> Visualización de la predicción para regresión univariable  </a> <br>\n",
    "    4.2. <a href=\"#curva_dataset\">Curvas de aprendizaje en función del tamaño del conjunto de entrenamiento</a> <br>\n",
    "    4.3. <a href=\"#curva_complejidad\">Curvas de aprendizaje en función de la complejidad del modelo</a> <br>\n",
    "\n",
    "------------------------------------------------------------------------------\n",
    "\n",
    "En este _notebook_ veremos cómo entrenar y evaluar un regresor, exploraremos la oferta de regresores de Sklearn y veremos distintas técnicas para identificar situaciones de _overfitting_. \n",
    "\n",
    "Empezaremos por importar todos los elementos que usaremos a lo largo del notebook:"
   ]
  },
  {
   "cell_type": "code",
   "execution_count": 1,
   "metadata": {},
   "outputs": [
    {
     "name": "stderr",
     "output_type": "stream",
     "text": [
      "C:\\Users\\valle\\AppData\\Roaming\\Python\\Python311\\site-packages\\pandas\\core\\arrays\\masked.py:60: UserWarning: Pandas requires version '1.3.6' or newer of 'bottleneck' (version '1.3.5' currently installed).\n",
      "  from pandas.core import (\n"
     ]
    }
   ],
   "source": [
    "import time\n",
    "import warnings\n",
    "warnings.simplefilter(action='ignore', category=FutureWarning)\n",
    "\n",
    "import numpy as np\n",
    "import pandas as pd\n",
    "\n",
    "import seaborn as sns\n",
    "import matplotlib.pyplot as plt\n",
    "\n",
    "from sklearn import metrics\n",
    "from sklearn.linear_model import LinearRegression\n",
    "from sklearn.model_selection import train_test_split, cross_val_predict, cross_val_score, validation_curve, learning_curve"
   ]
  },
  {
   "cell_type": "markdown",
   "metadata": {},
   "source": [
    "Usaremos el dataset _concrete_, disponible en el repositorio UCI. El dataset contiene 1030 registros correspondientes a medidas de resistencia de hormigón. Los atributos se corresponden con las proporciones de la mezcla distintas muestras de hormigón y la edad (en días) de la muestra. La variable numérica a predecir es la resistencia de cada muestra."
   ]
  },
  {
   "cell_type": "code",
   "execution_count": 2,
   "metadata": {},
   "outputs": [
    {
     "data": {
      "text/html": [
       "<div>\n",
       "<style scoped>\n",
       "    .dataframe tbody tr th:only-of-type {\n",
       "        vertical-align: middle;\n",
       "    }\n",
       "\n",
       "    .dataframe tbody tr th {\n",
       "        vertical-align: top;\n",
       "    }\n",
       "\n",
       "    .dataframe thead th {\n",
       "        text-align: right;\n",
       "    }\n",
       "</style>\n",
       "<table border=\"1\" class=\"dataframe\">\n",
       "  <thead>\n",
       "    <tr style=\"text-align: right;\">\n",
       "      <th></th>\n",
       "      <th>Cement</th>\n",
       "      <th>Blast Furnace Slag</th>\n",
       "      <th>Fly Ash</th>\n",
       "      <th>Water</th>\n",
       "      <th>Superplasticizer</th>\n",
       "      <th>Coarse Aggregate</th>\n",
       "      <th>Fine Aggregate</th>\n",
       "      <th>Age</th>\n",
       "    </tr>\n",
       "  </thead>\n",
       "  <tbody>\n",
       "    <tr>\n",
       "      <th>0</th>\n",
       "      <td>540.0</td>\n",
       "      <td>0.0</td>\n",
       "      <td>0.0</td>\n",
       "      <td>162.0</td>\n",
       "      <td>2.5</td>\n",
       "      <td>1040.0</td>\n",
       "      <td>676.0</td>\n",
       "      <td>28</td>\n",
       "    </tr>\n",
       "    <tr>\n",
       "      <th>1</th>\n",
       "      <td>540.0</td>\n",
       "      <td>0.0</td>\n",
       "      <td>0.0</td>\n",
       "      <td>162.0</td>\n",
       "      <td>2.5</td>\n",
       "      <td>1055.0</td>\n",
       "      <td>676.0</td>\n",
       "      <td>28</td>\n",
       "    </tr>\n",
       "    <tr>\n",
       "      <th>2</th>\n",
       "      <td>332.5</td>\n",
       "      <td>142.5</td>\n",
       "      <td>0.0</td>\n",
       "      <td>228.0</td>\n",
       "      <td>0.0</td>\n",
       "      <td>932.0</td>\n",
       "      <td>594.0</td>\n",
       "      <td>270</td>\n",
       "    </tr>\n",
       "    <tr>\n",
       "      <th>3</th>\n",
       "      <td>332.5</td>\n",
       "      <td>142.5</td>\n",
       "      <td>0.0</td>\n",
       "      <td>228.0</td>\n",
       "      <td>0.0</td>\n",
       "      <td>932.0</td>\n",
       "      <td>594.0</td>\n",
       "      <td>365</td>\n",
       "    </tr>\n",
       "    <tr>\n",
       "      <th>4</th>\n",
       "      <td>198.6</td>\n",
       "      <td>132.4</td>\n",
       "      <td>0.0</td>\n",
       "      <td>192.0</td>\n",
       "      <td>0.0</td>\n",
       "      <td>978.4</td>\n",
       "      <td>825.5</td>\n",
       "      <td>360</td>\n",
       "    </tr>\n",
       "    <tr>\n",
       "      <th>...</th>\n",
       "      <td>...</td>\n",
       "      <td>...</td>\n",
       "      <td>...</td>\n",
       "      <td>...</td>\n",
       "      <td>...</td>\n",
       "      <td>...</td>\n",
       "      <td>...</td>\n",
       "      <td>...</td>\n",
       "    </tr>\n",
       "    <tr>\n",
       "      <th>1025</th>\n",
       "      <td>276.4</td>\n",
       "      <td>116.0</td>\n",
       "      <td>90.3</td>\n",
       "      <td>179.6</td>\n",
       "      <td>8.9</td>\n",
       "      <td>870.1</td>\n",
       "      <td>768.3</td>\n",
       "      <td>28</td>\n",
       "    </tr>\n",
       "    <tr>\n",
       "      <th>1026</th>\n",
       "      <td>322.2</td>\n",
       "      <td>0.0</td>\n",
       "      <td>115.6</td>\n",
       "      <td>196.0</td>\n",
       "      <td>10.4</td>\n",
       "      <td>817.9</td>\n",
       "      <td>813.4</td>\n",
       "      <td>28</td>\n",
       "    </tr>\n",
       "    <tr>\n",
       "      <th>1027</th>\n",
       "      <td>148.5</td>\n",
       "      <td>139.4</td>\n",
       "      <td>108.6</td>\n",
       "      <td>192.7</td>\n",
       "      <td>6.1</td>\n",
       "      <td>892.4</td>\n",
       "      <td>780.0</td>\n",
       "      <td>28</td>\n",
       "    </tr>\n",
       "    <tr>\n",
       "      <th>1028</th>\n",
       "      <td>159.1</td>\n",
       "      <td>186.7</td>\n",
       "      <td>0.0</td>\n",
       "      <td>175.6</td>\n",
       "      <td>11.3</td>\n",
       "      <td>989.6</td>\n",
       "      <td>788.9</td>\n",
       "      <td>28</td>\n",
       "    </tr>\n",
       "    <tr>\n",
       "      <th>1029</th>\n",
       "      <td>260.9</td>\n",
       "      <td>100.5</td>\n",
       "      <td>78.3</td>\n",
       "      <td>200.6</td>\n",
       "      <td>8.6</td>\n",
       "      <td>864.5</td>\n",
       "      <td>761.5</td>\n",
       "      <td>28</td>\n",
       "    </tr>\n",
       "  </tbody>\n",
       "</table>\n",
       "<p>1030 rows × 8 columns</p>\n",
       "</div>"
      ],
      "text/plain": [
       "      Cement  Blast Furnace Slag  Fly Ash  Water  Superplasticizer  \\\n",
       "0      540.0                 0.0      0.0  162.0               2.5   \n",
       "1      540.0                 0.0      0.0  162.0               2.5   \n",
       "2      332.5               142.5      0.0  228.0               0.0   \n",
       "3      332.5               142.5      0.0  228.0               0.0   \n",
       "4      198.6               132.4      0.0  192.0               0.0   \n",
       "...      ...                 ...      ...    ...               ...   \n",
       "1025   276.4               116.0     90.3  179.6               8.9   \n",
       "1026   322.2                 0.0    115.6  196.0              10.4   \n",
       "1027   148.5               139.4    108.6  192.7               6.1   \n",
       "1028   159.1               186.7      0.0  175.6              11.3   \n",
       "1029   260.9               100.5     78.3  200.6               8.6   \n",
       "\n",
       "      Coarse Aggregate  Fine Aggregate  Age  \n",
       "0               1040.0           676.0   28  \n",
       "1               1055.0           676.0   28  \n",
       "2                932.0           594.0  270  \n",
       "3                932.0           594.0  365  \n",
       "4                978.4           825.5  360  \n",
       "...                ...             ...  ...  \n",
       "1025             870.1           768.3   28  \n",
       "1026             817.9           813.4   28  \n",
       "1027             892.4           780.0   28  \n",
       "1028             989.6           788.9   28  \n",
       "1029             864.5           761.5   28  \n",
       "\n",
       "[1030 rows x 8 columns]"
      ]
     },
     "execution_count": 2,
     "metadata": {},
     "output_type": "execute_result"
    }
   ],
   "source": [
    "# EJERCICIO: leer el fichero 'concrete.csv' y crear el dataframe 'X' para los atributos, y la serie 'y' para la clase (atributo 'Concrete compressive strength')\n",
    "datos = pd.read_csv(\"concrete.csv\")\n",
    "\n",
    "#Separar los atributos (X) de la clase (Y)\n",
    "X = datos.drop(columns=['Concrete compressive strength'])\n",
    "y = datos['Concrete compressive strength']\n",
    "\n",
    "X"
   ]
  },
  {
   "cell_type": "markdown",
   "metadata": {},
   "source": [
    "## 1. Entrenamiento de un regresor <a name=\"entrenamiento\"> </a>\n",
    "\n",
    "Entrenar un clasificador es muy simple en Sklearn, basta con crear un objeto del estimador que queramos entrenar y ejecutar el método <code>fit</code>. En este notebook usaremos uno de los regresores más comunes: <code>LinearRegression</code>.\n",
    "\n",
    "### 1.1 ¿Qué es la regresión lineal? <a name=\"regresion_lineal\"> </a>\n",
    "\n",
    "Es un modelo matemático usado para aproximar la relación entre una variable dependiente $y$, y las variables independientes $x_i$. El modelo se expresa con la siguiente fórmula:\n",
    "\n",
    "$$\n",
    "y \\approx \\alpha+\\beta_1x_1+\\beta_2x_2...+\\beta_nx_n\n",
    "$$\n",
    "\n",
    "Sklearn proporciona distinos métodos para realizar regresión lineal. El más simple de ellos es el de los _mínimos cuadrados_ que es el que implementa el estimador <code>LinearRegression</code>. La técnica de los mínimos cuadrados se utiliza para determinar los coeficientes de una función de regresión que minimicen la suma de los cuadrados de los errores. Para una función de regresión lineal, se trataría de minimizar esta expresión:\n",
    "\n",
    "$$\n",
    "S = \\sum (y - f(X))^2 = \\sum (y - \\alpha+\\beta_1x_1+\\beta_2x_2...+\\beta_nx_n)^2\n",
    "$$\n",
    "\n",
    "\n",
    "### 1.2 El estimador <code>LinearRegression</code> <a name=\"estimador_reg_lin\"> </a>"
   ]
  },
  {
   "cell_type": "code",
   "execution_count": 27,
   "metadata": {},
   "outputs": [
    {
     "data": {
      "text/html": [
       "<style>#sk-container-id-3 {color: black;}#sk-container-id-3 pre{padding: 0;}#sk-container-id-3 div.sk-toggleable {background-color: white;}#sk-container-id-3 label.sk-toggleable__label {cursor: pointer;display: block;width: 100%;margin-bottom: 0;padding: 0.3em;box-sizing: border-box;text-align: center;}#sk-container-id-3 label.sk-toggleable__label-arrow:before {content: \"▸\";float: left;margin-right: 0.25em;color: #696969;}#sk-container-id-3 label.sk-toggleable__label-arrow:hover:before {color: black;}#sk-container-id-3 div.sk-estimator:hover label.sk-toggleable__label-arrow:before {color: black;}#sk-container-id-3 div.sk-toggleable__content {max-height: 0;max-width: 0;overflow: hidden;text-align: left;background-color: #f0f8ff;}#sk-container-id-3 div.sk-toggleable__content pre {margin: 0.2em;color: black;border-radius: 0.25em;background-color: #f0f8ff;}#sk-container-id-3 input.sk-toggleable__control:checked~div.sk-toggleable__content {max-height: 200px;max-width: 100%;overflow: auto;}#sk-container-id-3 input.sk-toggleable__control:checked~label.sk-toggleable__label-arrow:before {content: \"▾\";}#sk-container-id-3 div.sk-estimator input.sk-toggleable__control:checked~label.sk-toggleable__label {background-color: #d4ebff;}#sk-container-id-3 div.sk-label input.sk-toggleable__control:checked~label.sk-toggleable__label {background-color: #d4ebff;}#sk-container-id-3 input.sk-hidden--visually {border: 0;clip: rect(1px 1px 1px 1px);clip: rect(1px, 1px, 1px, 1px);height: 1px;margin: -1px;overflow: hidden;padding: 0;position: absolute;width: 1px;}#sk-container-id-3 div.sk-estimator {font-family: monospace;background-color: #f0f8ff;border: 1px dotted black;border-radius: 0.25em;box-sizing: border-box;margin-bottom: 0.5em;}#sk-container-id-3 div.sk-estimator:hover {background-color: #d4ebff;}#sk-container-id-3 div.sk-parallel-item::after {content: \"\";width: 100%;border-bottom: 1px solid gray;flex-grow: 1;}#sk-container-id-3 div.sk-label:hover label.sk-toggleable__label {background-color: #d4ebff;}#sk-container-id-3 div.sk-serial::before {content: \"\";position: absolute;border-left: 1px solid gray;box-sizing: border-box;top: 0;bottom: 0;left: 50%;z-index: 0;}#sk-container-id-3 div.sk-serial {display: flex;flex-direction: column;align-items: center;background-color: white;padding-right: 0.2em;padding-left: 0.2em;position: relative;}#sk-container-id-3 div.sk-item {position: relative;z-index: 1;}#sk-container-id-3 div.sk-parallel {display: flex;align-items: stretch;justify-content: center;background-color: white;position: relative;}#sk-container-id-3 div.sk-item::before, #sk-container-id-3 div.sk-parallel-item::before {content: \"\";position: absolute;border-left: 1px solid gray;box-sizing: border-box;top: 0;bottom: 0;left: 50%;z-index: -1;}#sk-container-id-3 div.sk-parallel-item {display: flex;flex-direction: column;z-index: 1;position: relative;background-color: white;}#sk-container-id-3 div.sk-parallel-item:first-child::after {align-self: flex-end;width: 50%;}#sk-container-id-3 div.sk-parallel-item:last-child::after {align-self: flex-start;width: 50%;}#sk-container-id-3 div.sk-parallel-item:only-child::after {width: 0;}#sk-container-id-3 div.sk-dashed-wrapped {border: 1px dashed gray;margin: 0 0.4em 0.5em 0.4em;box-sizing: border-box;padding-bottom: 0.4em;background-color: white;}#sk-container-id-3 div.sk-label label {font-family: monospace;font-weight: bold;display: inline-block;line-height: 1.2em;}#sk-container-id-3 div.sk-label-container {text-align: center;}#sk-container-id-3 div.sk-container {/* jupyter's `normalize.less` sets `[hidden] { display: none; }` but bootstrap.min.css set `[hidden] { display: none !important; }` so we also need the `!important` here to be able to override the default hidden behavior on the sphinx rendered scikit-learn.org. See: https://github.com/scikit-learn/scikit-learn/issues/21755 */display: inline-block !important;position: relative;}#sk-container-id-3 div.sk-text-repr-fallback {display: none;}</style><div id=\"sk-container-id-3\" class=\"sk-top-container\"><div class=\"sk-text-repr-fallback\"><pre>LinearRegression()</pre><b>In a Jupyter environment, please rerun this cell to show the HTML representation or trust the notebook. <br />On GitHub, the HTML representation is unable to render, please try loading this page with nbviewer.org.</b></div><div class=\"sk-container\" hidden><div class=\"sk-item\"><div class=\"sk-estimator sk-toggleable\"><input class=\"sk-toggleable__control sk-hidden--visually\" id=\"sk-estimator-id-3\" type=\"checkbox\" checked><label for=\"sk-estimator-id-3\" class=\"sk-toggleable__label sk-toggleable__label-arrow\">LinearRegression</label><div class=\"sk-toggleable__content\"><pre>LinearRegression()</pre></div></div></div></div></div>"
      ],
      "text/plain": [
       "LinearRegression()"
      ]
     },
     "execution_count": 27,
     "metadata": {},
     "output_type": "execute_result"
    }
   ],
   "source": [
    "# EJERCICIO: crear un estimador de la clase LinearRegression y entrenarlo con el dataset <X,y>\n",
    "estimador = LinearRegression()\n",
    "estimador.fit(X,y)"
   ]
  },
  {
   "cell_type": "markdown",
   "metadata": {},
   "source": [
    "Una vez entrenado un estimador, podemos usarlo para predecir la clase de un conjunto de instancias con el método <code>predict</code>."
   ]
  },
  {
   "cell_type": "code",
   "execution_count": 28,
   "metadata": {},
   "outputs": [
    {
     "data": {
      "text/plain": [
       "array([53.46346329, 53.73475651, 56.81258504, 67.66368153, 60.91205585,\n",
       "       26.85991563, 68.42076149, 29.92792448, 19.7781474 , 31.44208441])"
      ]
     },
     "execution_count": 28,
     "metadata": {},
     "output_type": "execute_result"
    }
   ],
   "source": [
    "# EJERCICIO: predecir la salida de los primeros 10 valores de X con el regresor entrenado anteriormente\n",
    "predicciones = estimador.predict(X.head(10))\n",
    "predicciones"
   ]
  },
  {
   "cell_type": "markdown",
   "metadata": {},
   "source": [
    "Podemos aplicar validación cruzada para evaluar. Por defecto la métrica de evaluación es <code>r2_score</code> aunque, como veremos en la siguiente sección, hay más métricas implementadas en Sklearn."
   ]
  },
  {
   "cell_type": "code",
   "execution_count": 29,
   "metadata": {},
   "outputs": [
    {
     "data": {
      "text/plain": [
       "array([53.31616047, 53.75523611, 61.10426739, 74.14150413, 68.48871563,\n",
       "       26.71337155, 74.56828326, 28.32040134, 18.20485915, 29.1739596 ])"
      ]
     },
     "execution_count": 29,
     "metadata": {},
     "output_type": "execute_result"
    }
   ],
   "source": [
    "# EJERCICIO: predecir la salida de todas las instancias mediante validación cruzada y guardar las prediccciones en y_pred\n",
    "y_pred = cross_val_predict(estimador, X, y, cv=10)\n",
    "y_pred[:10]"
   ]
  },
  {
   "cell_type": "code",
   "execution_count": 30,
   "metadata": {},
   "outputs": [
    {
     "data": {
      "text/plain": [
       "0.27820729160873797"
      ]
     },
     "execution_count": 30,
     "metadata": {},
     "output_type": "execute_result"
    }
   ],
   "source": [
    "# EJERCICIO: calcular el score por defecto sobre todas las instancias mediante validación cruzada\n",
    "scores = cross_val_score(estimador, X, y, cv=10)\n",
    "scores.mean()"
   ]
  },
  {
   "cell_type": "code",
   "execution_count": 31,
   "metadata": {},
   "outputs": [
    {
     "data": {
      "text/plain": [
       "0.6290051736190725"
      ]
     },
     "execution_count": 31,
     "metadata": {},
     "output_type": "execute_result"
    }
   ],
   "source": [
    "# EJERCICIO: dividir el dataset <X, y> en dos datasets <X_train, y_train> y <X_test, y_test> con una distribución 80%-20%,\n",
    "#            entrenar el regresor con <X_train, y_train> y calcular la métrica r2 con <X_test, y_test>\n",
    "X_train, X_test, y_train, y_test = train_test_split(X, y, test_size=0.20)\n",
    "estimador.fit(X_train, y_train)\n",
    "y_test_pred = estimador.predict(X_test)\n",
    "metrics.r2_score(y_test, y_test_pred)"
   ]
  },
  {
   "cell_type": "markdown",
   "metadata": {},
   "source": [
    "## 2. Métricas de evaluación <a name=\"evaluacion\"> </a>\n",
    "\n",
    "En las tareas de clasificación las métricas de evaluación se basan en el número de aciertos de las predicciones. En la regresión, sin embargo, no se puede hablar de aciertos ya que las predicciones son numéricas y es muy improbable predecir exactamente el valor correcto. Lo importante para evaluar un regresor es medir la diferencia entre el valor real y el valor predicho. \n",
    "\n",
    "En esta sección tres de las métricas más populares para evaluar la calidad de los regresores:\n",
    "Métricas de error (cuánto peor valor, mejor):\n",
    "- MAE: _mean absolute error_ (en términos de la magnitud a predecir)\n",
    "- MSE: _mean squared error_ (da más peso a los errores grandes)\n",
    "- MLSE: _mean squared logarithmic error_(da más peso a los errores pequeños, especialmente indicada cuando la variable a predecir presenta un rango muy amplio de valores)\n",
    "Métricas de acierto (cuánto mejor valor, mejor):\n",
    "- R2: coeficiente de determinación (normalizada de $-1$ a $1$\n",
    "\n",
    "Las fórmulas para cada una de las tres métricas son:\n",
    "\n",
    "$$\n",
    "MAE = \\frac{\\sum |\\;y -f(X)\\;|}{n}\n",
    "$$\n",
    "\n",
    "$$\n",
    "MSE = \\frac{\\sum (y -f(X))^2}{n}\n",
    "$$\n",
    "\n",
    "$$\n",
    "MLSE = \\frac{\\sum (log(y+1) - log(f(X)+1)) ^2}{n}\n",
    "$$\n",
    "\n",
    "$$\n",
    "R2 = 1 - \\frac{\\sum (y -f(X))^2}{\\sum (\\bar{y} - y)}\n",
    "$$"
   ]
  },
  {
   "cell_type": "code",
   "execution_count": 32,
   "metadata": {},
   "outputs": [
    {
     "name": "stdout",
     "output_type": "stream",
     "text": [
      "MAE: 0.5\n",
      "MSE: 0.375\n",
      "R2: -0.19999999999999996\n"
     ]
    }
   ],
   "source": [
    "# EJERCICIO: dadas los siguientes vectores 'y_real' e 'y_pred' calcular las métricas MAE, MSE y R2\n",
    "#    y_real = [1,   0.5, 1.5, 0]\n",
    "#    y_pred = [1.5, 0,   1.5,  1]\n",
    "\n",
    "#from sklearn.metrics import mean_absolute_error, mean_squared_error, r2_score\n",
    "\n",
    "y_real = [1, 0.5, 1.5, 0]\n",
    "y_pred = [1.5, 0, 1.5, 1]\n",
    "\n",
    "# Calcula MAE\n",
    "mae = metrics.mean_absolute_error(y_real, y_pred)\n",
    "\n",
    "# Calcula MSE\n",
    "mse = metrics.mean_squared_error(y_real, y_pred)\n",
    "\n",
    "# Calcula R2\n",
    "r2 = metrics.r2_score(y_real, y_pred)\n",
    "\n",
    "print(\"MAE:\", mae)\n",
    "print(\"MSE:\", mse)\n",
    "print(\"R2:\", r2)"
   ]
  },
  {
   "cell_type": "code",
   "execution_count": 33,
   "metadata": {},
   "outputs": [
    {
     "name": "stdout",
     "output_type": "stream",
     "text": [
      "MAE: -1.333333333333333\n",
      "MSE: -2.4722222222222214\n",
      "R2: -33.61728395061727\n"
     ]
    }
   ],
   "source": [
    "# EJERCICIO: calcular las métricas MAE, MSE y R2 usando 'cross_val_score' y el estimador LinearRegression\n",
    "# NOTA: los scores MAE y MSE son negativos para que los valores altos se correspondan con mejores resultados\n",
    "\n",
    "# Calcular los scores utilizando validación cruzada\n",
    "mae_scores = cross_val_score(estimador, np.array(y_real).reshape(-1, 1), y_pred, scoring='neg_mean_absolute_error', cv=2)\n",
    "mse_scores = cross_val_score(estimador, np.array(y_real).reshape(-1, 1), y_pred, scoring='neg_mean_squared_error', cv=2)\n",
    "r2_scores = cross_val_score(estimador, np.array(y_real).reshape(-1, 1), y_pred, scoring='r2', cv=2)\n",
    "\n",
    "# Calcular el promedio de los scores\n",
    "mae_avg = np.mean(mae_scores)\n",
    "mse_avg = np.mean(mse_scores)\n",
    "r2_avg = np.mean(r2_scores)\n",
    "\n",
    "print(\"MAE:\", mae_avg)\n",
    "print(\"MSE:\", mse_avg)\n",
    "print(\"R2:\", r2_avg)"
   ]
  },
  {
   "cell_type": "code",
   "execution_count": 34,
   "metadata": {},
   "outputs": [
    {
     "ename": "NameError",
     "evalue": "name 'mean_absolute_error' is not defined",
     "output_type": "error",
     "traceback": [
      "\u001b[1;31m---------------------------------------------------------------------------\u001b[0m",
      "\u001b[1;31mNameError\u001b[0m                                 Traceback (most recent call last)",
      "Cell \u001b[1;32mIn[34], line 5\u001b[0m\n\u001b[0;32m      2\u001b[0m y_pred_cv \u001b[38;5;241m=\u001b[39m cross_val_predict(estimador, np\u001b[38;5;241m.\u001b[39marray(y_real)\u001b[38;5;241m.\u001b[39mreshape(\u001b[38;5;241m-\u001b[39m\u001b[38;5;241m1\u001b[39m, \u001b[38;5;241m1\u001b[39m), y_pred, cv\u001b[38;5;241m=\u001b[39m\u001b[38;5;241m2\u001b[39m)\n\u001b[0;32m      4\u001b[0m \u001b[38;5;66;03m# Calcula MAE\u001b[39;00m\n\u001b[1;32m----> 5\u001b[0m mae_cv \u001b[38;5;241m=\u001b[39m mean_absolute_error(y_real, y_pred_cv)\n\u001b[0;32m      7\u001b[0m \u001b[38;5;66;03m# Calcula MSE\u001b[39;00m\n\u001b[0;32m      8\u001b[0m mse_cv \u001b[38;5;241m=\u001b[39m mean_squared_error(y_real, y_pred_cv)\n",
      "\u001b[1;31mNameError\u001b[0m: name 'mean_absolute_error' is not defined"
     ]
    }
   ],
   "source": [
    "# EJERCICIO: repetir el cálculo de la  métricas MAE usando 'cross_val_predict'\n",
    "y_pred_cv = cross_val_predict(estimador, np.array(y_real).reshape(-1, 1), y_pred, cv=2)\n",
    "\n",
    "# Calcula MAE\n",
    "mae_cv = mean_absolute_error(y_real, y_pred_cv)\n",
    "\n",
    "# Calcula MSE\n",
    "mse_cv = mean_squared_error(y_real, y_pred_cv)\n",
    "\n",
    "# Calcula R2\n",
    "r2_cv = r2_score(y_real, y_pred_cv)\n",
    "\n",
    "print(\"MAE:\", mae_cv)\n",
    "print(\"MSE:\", mse_cv)\n",
    "print(\"R2:\", r2_cv)"
   ]
  },
  {
   "cell_type": "markdown",
   "metadata": {},
   "source": [
    "## 3. Más regresores <a name=\"otros\"> </a>"
   ]
  },
  {
   "cell_type": "markdown",
   "metadata": {},
   "source": [
    "En esta sección usaremos la función <code>experimento</code> con distintos regresores e iremos guardando los resultados en el _dataframe_ <code>RESULTADOS</code>. "
   ]
  },
  {
   "cell_type": "code",
   "execution_count": null,
   "metadata": {},
   "outputs": [],
   "source": [
    "# DataFrame donde iremos guardando los resultados de los experimentos\n",
    "RESULTADOS = pd.DataFrame(columns=['R2', 'TIEMPO'])"
   ]
  },
  {
   "cell_type": "code",
   "execution_count": 35,
   "metadata": {},
   "outputs": [],
   "source": [
    "# EJERCICIO: implementar la función 'experimento' que encapsule todos los pasos del experimento de la sección anterior\n",
    "#    PARÁMETROS DE ENTRADA:\n",
    "#       - regresor: estimador usado en el experimento\n",
    "#       - X: matriz de atributos\n",
    "#       - y: vector de salida\n",
    "#       - scoring: métrica usada en la evaluación (por defecto 'r2')\n",
    "#    SALIDAS:\n",
    "#       - Devolver la tupla (score, tiempo) con la puntuación del experimento y el tiempo invertido en segundos\n",
    "def experimento(regresor, X, y, scoring='r2'):\n",
    "    inicio = time.time()\n",
    "    score = cross_val_score(regresor, X, y, scoring=scoring, cv=10).mean()\n",
    "    fin =  time.time()\n",
    "    return score, fin-inicio"
   ]
  },
  {
   "cell_type": "code",
   "execution_count": null,
   "metadata": {},
   "outputs": [],
   "source": [
    "# EJERCICIO: usar la función 'experimento' con los siguientes regresores y almacenar los resultados en el dataframe RESULTADOS:\n",
    "# - Regresión lineal\n",
    "# - Regresión lineal con Stochastic Gradient Descent Regressor\n",
    "# - Regresión cuadrática basada en Regresión Lineal (hay que usar Pipeline y PolynomialFeatures)\n",
    "# - Vecinos más cercanos, con valores para k en [1, 3, 5, 7]\n",
    "# - Support Vector Regressor, con valores para kernel en ['linear', ‘rbf’, ‘sigmoid’]\n",
    "# - Árbol de decisión\n",
    "# - Random Forests, con valores para n_estimators en [10, 100, 1000]\n",
    "# - Extra Trees, con valores para n_estimators en [10, 100, 1000]\n",
    "# - Gradient Boosting Regression\n",
    "\n",
    "from sklearn.linear_model import LinearRegression\n",
    "from sklearn.neighbors import KNeighborsRegressor\n",
    "from sklearn.svm import SVR\n",
    "from sklearn.tree import DecisionTreeRegressor\n",
    "from sklearn.ensemble import RandomForestRegressor, ExtraTreesRegressor, GradientBoostingRegressor\n",
    "\n",
    "\n",
    "regresores = [\n",
    "    (LinearRegression(),'Regresión lineal'),\n",
    "    (KNeighborsRegressor (1), 'Vecinos más cercanos - 1'),\n",
    "    (KNeighborsRegressor(3), 'Vecinos más cercanos - 3'),\n",
    "    (KNeighborsRegressor(5), 'Vecinos más cercanos - 5'),\n",
    "    (KNeighborsRegressor(7), 'Vecinos más cercanos - 7'),\n",
    "    (SVR(kernel='linear'), 'SVR - linear'),\n",
    "    (SVR(kernel='rbf'), 'SVR - rbf'),\n",
    "    (SVR(kernel='sigmoid'), 'SVR - sigmoid'),\n",
    "    (DecisionTreeRegressor(), 'Arbol de decisión'),\n",
    "    (RandomForestRegressor(n_estimators=10), 'RFR - 10'),\n",
    "    (RandomForestRegressor(n_estimators=100), 'RFR - 100'),\n",
    "    (RandomForestRegressor(n_estimators=1000), 'RFR - 1000'),\n",
    "    (ExtraTreesRegressor(n_estimators=10), 'ExtraTrees - 10'),\n",
    "    (ExtraTreesRegressor(n_estimators=100), 'ExtraTrees - 100'),\n",
    "    (ExtraTreesRegressor(n_estimators=1000), 'ExtraTrees - 1000'),\n",
    "    (GradientBoostingRegressor (), 'GBR')\n",
    "]\n",
    "\n",
    "#print(regresores)\n",
    "\n",
    "RESULTADOS = pd.DataFrame(columns=['MAE', 'MSE', 'R2', 'Tiempo medio'])\n",
    "\n",
    "for regresor,titulo in regresores:\n",
    "    mae = experimento(regresor,X,y, scoring='neg_mean_absolute_error')\n",
    "    mse = experimento(regresor,X,y, scoring='neg_mean_squared_error')\n",
    "    r2 = experimento(regresor,X,y, scoring='r2')\n",
    "    RESULTADOS.loc[titulo] = (mae[0], mse[0], r2[0], \n",
    "                              np.mean([mae[1],mse[1],r2[1]]))\n",
    "RESULTADOS"
   ]
  },
  {
   "cell_type": "markdown",
   "metadata": {},
   "source": [
    "## 4. _Underfitting_, _good fitting_, _overfitting_ y el dilema sesgo-varianza <a name=\"dilema\"> </a>\n",
    "\n",
    "La siguiente figura muestra gráficamente las situaciones de _underfitting_, _good fitting_, _overfitting_ en una tarea de regresión:\n",
    "\n",
    "<img src=\"./img/under-good-over.jpg\" alt=\"Drawing\" style=\"width:10cm;\"/>\n",
    "\n",
    "Se suelen considerar dos fuentes de error en los modelos entrenados a partir de datos:\n",
    "- **Sesgo (bias)**:\n",
    "    - Error producto de la simplificación (y pérdida de información) que implica la construcción de un modelo. \n",
    "    - Un _sesgo alto_ implica _underfitting_.\n",
    "- **Varianza (variance)**: \n",
    "    - Error producto de la dependencia de los datos usados. \n",
    "    - Mide el cambio que sufriría el modelo si se utilizaran datos de entrenamiento diferentes. \n",
    "    - Una _varianza alta_ implica _overfitting_.\n",
    "\n",
    "La siguiente gráfica muestra de forma intuitiva el efecto de ambos tipos de error.\n",
    "\n",
    "<img src=\"./img/bias-variance.jpg\" alt=\"Drawing\" style=\"width:10cm;\"/>\n",
    "\n",
    "El dilema _sesgo-varianza_ es el conflicto que se plantea al intentar minimzar ambas fuentes de error al entrenar un modelo. Hay una relación entre la complejidad del modelo y el dilema sesgo varianza que se suele ilustrar con una gráfica como la siguiente: \n",
    "\n",
    "<img src=\"./img/bias-variance-tradeoff.jpg\" alt=\"Drawing\" style=\"width:10cm;\"/>\n",
    "\n",
    "En la curva anterior se observan los siguientes fenómenos:\n",
    "- Modelos simples: adocelcen de _underfitting_ y presentan alto sesgo (error de predicción) y baja varianza (dependencia de los datos de entrenamiento)\n",
    "- Modelos complejos: adocelcen de _overfitting_ y presentan bajo sesgo (error de predicción) y alta varianza (dependencia de los datos de entrenamiento)\n",
    "\n",
    "\n",
    "Las curvas de aprendizaje basadas en la complejidad del modelo también nos permiten identificar situaciones de alto sesgo (_underfitting_) y de alta varianza (_overfitting_):\n",
    "\n",
    "<img src=\"./img/bias-variance-learning-curve.jpg\" alt=\"Drawing\" style=\"width:10cm;\"/>\n"
   ]
  },
  {
   "cell_type": "markdown",
   "metadata": {},
   "source": [
    "### 5.1. Visualización de modelos para regresión univariable <a name=\"visualizacion\"> </a>"
   ]
  },
  {
   "cell_type": "code",
   "execution_count": null,
   "metadata": {},
   "outputs": [],
   "source": [
    "# Generamos un dataset para regresión univariable con las siguientes características:\n",
    "#    - X: dataframe de una única columna con 100 valores reales aleatorios entre 1 y 10\n",
    "#    - y: serie con la salida para cada x, con un valor x^2 (+/- un valor aleatorio entre 0 y 20)\n",
    "#   Mostrar los puntos en un scatter_plot\n",
    "np.random.seed(10)\n",
    "X = pd.DataFrame(np.random.random((100,))*9+1, columns=['x'])\n",
    "y = pd.Series(X['x']*X['x']+np.random.uniform(low=-20, high=20, size=(100,)))\n",
    "sns.scatterplot(x=X['x'], y=y)"
   ]
  },
  {
   "cell_type": "code",
   "execution_count": 18,
   "metadata": {},
   "outputs": [],
   "source": [
    "# EJERCICIO: definir la función 'muestra_modelo' que muestre cómo se adapta un modelo de regresión a los datos\n",
    "#   ENTRADA:\n",
    "#      - regresor: estimador para entrenar el modelo\n",
    "#      - X: atributos del dataset (dataframe con una única columna)\n",
    "#      - y: vector de salida para la regresión\n",
    "#      - tiulo: mensaje a mostrar en el título de la gráfica, \n",
    "#               se mostrará también la métrica obtenida con la función 'experimento'\n",
    "#      - subplot: 3-tupla con el subplot donde colocar la gráfica (por defecto None)\n",
    "#               INCLUIR AL PRINCIPIO:\n",
    "#                       if subplot!=None:\n",
    "#                           plt.subplot(subplot[0], subplot[1], subplot[2])\n",
    "#               INCLUIR AL FINAL:\n",
    "#                       if subplot==None:\n",
    "#                           plt.show()   \n",
    "#      \n",
    "#   SALIDA:\n",
    "#   - Nube de puntos del dataset, sobre la que se superpone (con trazo en rojo) la línea de prediccciones del modelo\n",
    "def muestra_modelo(estimador, X, y, titulo=\"\", subplot=None):\n",
    "    if subplot!=None:\n",
    "        plt.subplot(subplot[0], subplot[1], subplot[2])\n",
    "    if titulo==\"\":\n",
    "        titulo = estimador.__class__\n",
    "    modelo = estimador.fit(X, y)\n",
    "    min_x = X.min()\n",
    "    max_x = X.max()\n",
    "    xs = pd.DataFrame(np.linspace(min_x, max_x, 1000), columns=['x'])\n",
    "    y_pred = modelo.predict(xs)\n",
    "    sns.scatterplot(x=X['x'], y=y, color='blue')\n",
    "    sns.lineplot(x=xs['x'], y=y_pred, color='red')\n",
    "    plt.xlabel('x')\n",
    "    plt.ylabel('y')\n",
    "    score, _ = experimento(estimador, X, y)\n",
    "    plt.title(\"{}   ({:.4f})\".format(titulo,score))\n",
    "    if subplot==None:\n",
    "        plt.show()"
   ]
  },
  {
   "cell_type": "code",
   "execution_count": null,
   "metadata": {},
   "outputs": [],
   "source": [
    "# EJERCICIO: usar la función muestra_modelo para trazar la curva aprendida por un regresor lineal\n",
    "def experimento(regresor, X, y, scoring='r2'):\n",
    "    inicio = time.time()\n",
    "    score = cross_val_score(regresor, X, y, cv=10, scoring='r2').mean()\n",
    "    fin = time.time()\n",
    "    return score, fin-inicio\n",
    "\n",
    "from sklearn.tree import DecisionTreeRegressor\n",
    "muestra_modelo(DecisionTreeRegressor(), X, y, titulo=\"Árbol\")\n",
    "muestra_modelo(LinearRegression(), X, y, titulo=\"Regresor Lineal\")"
   ]
  },
  {
   "cell_type": "markdown",
   "metadata": {},
   "source": [
    "### 5.2. Curvas de aprendizaje en función del tamaño del conjunto de entrenamiento<a name=\"curva_dataset\"> </a>\n",
    "La funcion <code>learning_curve</code> nos permite analizar de qué manera afecta el tamaño del conjunto de entrenamiento en el rendimiento de un estimador. Se trata de ir entrenando modelos con _subconjuntos del dataset original_ de distintos tamaños. Esta función produce dos tipos de resultados:\n",
    "- **Resultados sobre el conjunto de entrenamiento**: se usan los mismos datos para entrenar y evaluar \n",
    "- **Resultados de validación**: se usan distintos datos para entrenar y evaluar\n",
    "\n",
    "Estas curvas pueden desvelar ciertas **tendencias al overfitting** y son muy útiles para detectar situaciones de **alto sesgo** y **alta varianza**."
   ]
  },
  {
   "cell_type": "code",
   "execution_count": null,
   "metadata": {},
   "outputs": [],
   "source": [
    "# EJERCICIO: mostrar el resultado de la función learning_curve para la siguiente configuración:\n",
    "#    - Estimador: ExtraTreesRegressor\n",
    "#    - Porcentaje dedicado a entrenamiento: 80%\n",
    "#    - Tamaño del subconjunto del dataset más pequeño: 10 (de un dataset con 100 instancias)\n",
    "#    - Número de subconjuntos a probar: 20\n",
    "#    - Método de scoring: 'r2'\n",
    "#    - Número de carpetas de la validación cruzada: 5\n",
    "# NOTA: seguir los siguientes pasos\n",
    "#    - Calcular tamaño_train y tamaño_test a partir de len(X) y del porcentaje de train\n",
    "#    - Usar no.linespace para calcular una lista de tamaños linealmente crecientes para todos los subconjuntos\n",
    "\n",
    "from sklearn.ensemble import ExtraTreesRegressor\n",
    "\n",
    "estimador = ExtraTreesRegressor()\n",
    "#estimador = LinearRegression()\n",
    "\n",
    "porcentaje train = 80\n",
    "tamaño_inicial = 10\n",
    "numero_subconjuntos = 20\n",
    "scoring = 'r2'\n",
    "Cv = 5\n",
    "\n",
    "tamaño_train = int(len(X) * porcentaje_train / 100)\n",
    "tamaño_test = len(X) - tamaño_train\n",
    "tamaños_subconjuntos = np. linspace(tamaño_inicial, tamaño_train, numero_ subconjuntos, dtype = int)\n",
    "_,scores_train, scores_validacion = learning_ curve(estimador, X, y, train_sizes=tamaños_ subconjuntos)\n",
    "\n",
    "print (scores_train)\n",
    "print (scores_validacion)\n",
    "#foto"
   ]
  },
  {
   "cell_type": "code",
   "execution_count": null,
   "metadata": {},
   "outputs": [],
   "source": [
    "# EJERCICIO: repetir el ejercicio calculando la media de cada fila (correspondiente a las validaciones cruzadas de cada experimento)\n"
   ]
  },
  {
   "cell_type": "code",
   "execution_count": null,
   "metadata": {},
   "outputs": [],
   "source": [
    "# EJERCICIO: definir la función 'muestra_curva_aprendizaje_tamaño' que muestre este tipo de curvas\n",
    "#   ENTRADA:\n",
    "#    - estimador: sobre el que se realiza el experimento\n",
    "#    - porcentaje_train: porcentaje dedicado a entrenamiento\n",
    "#    - tamaño_inicial: del primer subconjunto de entrenamiento\n",
    "#    - numero_subconjuntos: se calcularña un punto de la curva por cada subconjunto\n",
    "#    - scoring: método de scoring (por defecto 'r2')\n",
    "#    - cv: número de carpetas de la validación cruzada (por defecto 5)\n",
    "#    - subplot: 3-tupla con el subplot donde colocar la gráfica (por defecto None)\n",
    "#               INCLUIR AL PRINCIPIO:\n",
    "#                       if subplot!=None:\n",
    "#                           plt.subplot(subplot[0], subplot[1], subplot[2])\n",
    "#               INCLUIR AL FINAL:\n",
    "#                       if subplot==None:\n",
    "#                           plt.show()\n",
    "#    - rango_y: valores mínimo y máximo del eje y (por defecto None)\n",
    "#   SALIDA:\n",
    "#   - Curva de aprendizaje con trazo discontinuo rojo para entrenamiento, y continuo azul para validación\n",
    "\n",
    "def muestra_curva_aprendizaje_tamaño_simple(Estimador, X, y, porcentaje_train, tamaño_inicial, numero_subconjuntos, scoring='r2', cv=5, subplot=None):\n",
    "    \n",
    "    tamaño_train = int(len(X)*porcentaje_train/100)\n",
    "    tamaño_test = len(X) - tamaño_train\n",
    "    tamaños_subconjuntos = np. linspace(tamaño_inicial, tamaño_train, numero_subconjuntos, dtype = int)\n",
    "    _, scores_train, scores_validacion = learning_curve(estimador, X, y, train_sizes=tamaños_subconjuntos,\n",
    "                                                         cv=5, scoring='r2', shuffle=True)\n",
    "    scores_train = np.mean(scores_train, axis=1)\n",
    "    scores_validacion = np.mean(scores_validacion, axis=1)\n",
    "    \n",
    "    valores = tamaños_subconjuntos\n",
    "    plt.plot(valores, scores_train, 'r', linestyle='--', label=scoring+\" en 'entrenamiento'\") \n",
    "    plt.plot(valores, scores_validacion, 'b', label=scoring+\" en 'validación'\")\n",
    "    plt. title('Curva de aprendizaje sobre tamaño')\n",
    "    plt. legend()\n",
    "    \n",
    "muestra_curva_aprendizaje_tamaño_simple(LinearRegression(), X, y, 80, 20, 20)"
   ]
  },
  {
   "cell_type": "code",
   "execution_count": null,
   "metadata": {},
   "outputs": [],
   "source": [
    "# EJERCICIO: mostrar la curva de aprendizaje para la regresión lineal. Usar la siguiente configuración:\n",
    "#    - porcentaje de train: 80\n",
    "#    - tamaño de conjunto inicial: 20\n",
    "#    - número de conjuntos: 20 con la siguiente configuración\n"
   ]
  },
  {
   "cell_type": "markdown",
   "metadata": {},
   "source": [
    "En el siguiente ejercicio mostraremos, dos a dos, las curvas de modelo y de aprendizaje para distintos regresores. Las claves para intepretar los distintos fenómenos sobre las curvas de aprendizaje son:\n",
    "- **overfitting**: los resultados sobre entrenamiento son muy buenos (rozando el máximo) y los de validación son sensiblemente peores\n",
    "- **buen ajuste**: las curvas tienden a converger y se observa aún cierta tendencia al alza en la validación\n",
    "- **alta varianza**: las curvas tienen muchos picos, es señal de una gran dependencia de los datos\n",
    "- **alto sesgo**: la media de resultados es baja, y no hay tendencia a mejorar con el incremento de tamaño"
   ]
  },
  {
   "cell_type": "code",
   "execution_count": null,
   "metadata": {},
   "outputs": [],
   "source": [
    "# EJERCICIO: mostrar la curva de aprendizaje y la de modelo para los siguientes regresores:\n",
    "# - Regresión Lineal\n",
    "# - Regresión lineal con Stochastic Gradient Descent Regressor\n",
    "# - Regresión cuadrática basada en Regresión Lineal (hay que usar Pipeline y PolynomialFeatures)\n",
    "# - Vecinos más cercanos, con valores para k en [1, 3, 5, 7]\n",
    "# - Support Vector Regression, con valores para kernel en ['linear', ‘poly’, ‘rbf’, ‘sigmoid’]\n",
    "# - Stochastic Gradient Descent\n",
    "# - Árbol de decisión\n",
    "# - Random Forests, con valores para n_estimators en [10, 100, 1000]\n",
    "# - Extra trees, con valores para n_estimators en [10, 100, 1000]\n",
    "# - Gradient Boosting Regression\n"
   ]
  },
  {
   "cell_type": "markdown",
   "metadata": {},
   "source": [
    "### 5.3. Curvas de aprendizaje en función de la complejidad del modelo<a name=\"curva_complejidad\"> </a>\n",
    "\n",
    "Sklearn proporciona la funcion <code>validation_curve</code> que nos permite analizar de qué manera afectan los valores que toma un hiperparámetro (que en muchos casos se puede interpretar como una medida de la complejidad del modelo) en el rendimiento de un estimador. Esta función produce dos conjuntos de resultados:\n",
    "- **Resultados sobre el conjunto de entrenamiento**: se usan los mismos datos para entrenar y evaluar \n",
    "- **Resultados de validación**: se usan distintos datos para entrenar y evaluar\n",
    "\n",
    "Esto nos permite identificar situaciones de **overfitting** cuando hay mucha discrepancia (en modelos complejos) entre los resultados de validación y los del conjunto de entrenamiento."
   ]
  },
  {
   "cell_type": "code",
   "execution_count": 15,
   "metadata": {},
   "outputs": [
    {
     "name": "stdout",
     "output_type": "stream",
     "text": [
      "[[0.18983956 0.25720318 0.26843107 0.23015406 0.26769452]\n",
      " [0.42285099 0.45711755 0.45205773 0.41265938 0.50187023]\n",
      " [0.56535022 0.62975085 0.61071415 0.57711284 0.67113864]\n",
      " [0.67185351 0.76508688 0.73856823 0.71912239 0.79456638]\n",
      " [0.78261004 0.83867801 0.82386064 0.806817   0.86716501]\n",
      " [0.97652582 0.98432653 0.98227322 0.97712982 0.98486189]\n",
      " [0.99828735 0.99521414 0.99655891 0.9949404  0.9955283 ]\n",
      " [0.99828765 0.99521466 0.99655946 0.99494077 0.99552891]]\n",
      "[[-0.35581053  0.18892032  0.17591022 -0.24754685  0.04807222]\n",
      " [-0.02178442  0.34629161  0.34377402  0.02001546 -0.02225732]\n",
      " [ 0.16280252  0.45958583  0.49921877  0.23837987 -0.05409191]\n",
      " [ 0.38290493  0.59310666  0.61829871  0.4825091  -0.09410426]\n",
      " [ 0.57660006  0.6421868   0.68486009  0.639245   -0.24198386]\n",
      " [ 0.76186761  0.7315961   0.79465445  0.85812921 -0.71797489]\n",
      " [ 0.75603957  0.73528045  0.79319646  0.87224865 -0.90998632]\n",
      " [ 0.75295876  0.74773907  0.79188375  0.86315987 -0.738756  ]]\n"
     ]
    }
   ],
   "source": [
    "# EJERCICIO: mostrar el resultado de la función validation_curve para la siguiente configuración:\n",
    "#    - Estimador: ExtraTreesRegressor\n",
    "#    - Parámetro a evaluar: 'max_depth'\n",
    "#    - Valores del parámetro: [1, 2, 3, 4, 5, 10, 20, 50]\n",
    "#    - Método de scoring: 'r2'\n",
    "#    - Número de carpetas de la validación cruzada: 5\n",
    "\n",
    "from sklearn.ensemble import ExtraTreesRegressor\n",
    "\n",
    "estimador = ExtraTreesRegressor()\n",
    "nombre_parametro = 'max_depth'\n",
    "valores_parametro = [1, 2, 3, 4, 5, 10, 20, 50]\n",
    "scoring = 'r2'\n",
    "cv = 5\n",
    "scores_train, scores_validacion = validation_curve(estimador, X, y,\n",
    "                                                   param_name=nombre_parametro, param_range=valores_parametro,\n",
    "                                                   cv=cv, scoring=scoring)\n",
    "print(scores_train)\n",
    "print(scores_validacion)"
   ]
  },
  {
   "cell_type": "code",
   "execution_count": null,
   "metadata": {},
   "outputs": [],
   "source": [
    "# EJERCICIO: repetir el ejercicio calculando la media de cada fila (correspondiente a las validaciones cruzadas de cada experimento)\n"
   ]
  },
  {
   "cell_type": "code",
   "execution_count": 16,
   "metadata": {},
   "outputs": [],
   "source": [
    "# EJERCICIO: definir la función 'muestra_curva_aprendizaje_complejidad' que muestre este tipo de curvas\n",
    "#   ENTRADA:\n",
    "#    - estimador: sobre el que se realiza el experimento\n",
    "#    - nombre_parametro: parámetro a evaluar\n",
    "#    - valores_parametros: para los que se calcularán puntos de la curva\n",
    "#    - scoring: método de scoring (por defecto 'r2')\n",
    "#    - cv: número de carpetas de la validación cruzada (por defecto 5)\n",
    "#    - subplot: 3-tupla con el subplot donde colocar la gráfica (por defecto None)\n",
    "#               INCLUIR AL PRINCIPIO:\n",
    "#                       if subplot!=None:\n",
    "#                           plt.subplot(subplot[0], subplot[1], subplot[2])\n",
    "#               INCLUIR AL FINAL:\n",
    "#                       if subplot==None:\n",
    "#                           plt.show()\n",
    "#     - rango_y: valores mínimo y máximo del eje y (por defecto None)\n",
    "#   SALIDA:\n",
    "#   - Curva de aprendizaje con trazo discontinuo rojo para entrenamiento, y continuo azul para validación\n",
    "\n",
    "def muestra_curva_aprendizaje_complejidad(estimador, X, y, nombre_parametro, valores_parametro, \n",
    "                                          scoring='r2', cv=5, subplot=None,rango_y=None):\n",
    "    valores_parametro = sorted(valores_parametro) #Para asegurar el orden de los valores\n",
    "    scores_train, scores_validacion = validation_curve(estimador, X, y,\n",
    "                                                       param_name=nombre_parametro, param_range=valores_parametro,\n",
    "                                                      cv=cv, scoring=scoring)\n",
    "    scores_train = np.mean(scores_train, axis=1)\n",
    "    scores_validacion = np.mean(scores_validacion, axis=1)\n",
    "    if rango_y is not None and subplot is not None:\n",
    "        ax.set_ylim(rango_y[0]*0.99, rango_y[1]*1.01)\n",
    "    \n",
    "    valores = valores_parametro\n",
    "    #plt.figure(figsize=(6,5))\n",
    "    plt.plot(valores, scores_train, 'r', linestyle='--', label=scoring+'en entrenamiento')\n",
    "    plt.plot(valores, scores_validacion, 'b', label=scoring+'en validacion' )\n",
    "    plt.title('Curva de aprendizaje sobre complejidad - {}'.format(nombre_parametro))\n",
    "    plt.legend()\n",
    "    plt.show()\n"
   ]
  },
  {
   "cell_type": "markdown",
   "metadata": {},
   "source": [
    "En los siguientes ejercicios mostraremos las curvas de modelo y de aprendizaje para distintos regresores. Las claves para intepretar los distintos fenómenos sobre las curvas de aprendizaje son:\n",
    "- **overfitting**: valores del parámetro que provocan diferencias significativa de resultados entre train y validación\n",
    "- **underfitting**: valores del parámetro que provocan bajos resultados en train y validación\n",
    "- **buen ajuste**: valores del parámetro que provocan resultados coincidentes (y buenos) entre train y validación"
   ]
  },
  {
   "cell_type": "code",
   "execution_count": 19,
   "metadata": {},
   "outputs": [
    {
     "data": {
      "image/png": "[encoded data removed]",
      "text/plain": [
       "<Figure size 600x500 with 1 Axes>"
      ]
     },
     "metadata": {},
     "output_type": "display_data"
    },
    {
     "ename": "ValueError",
     "evalue": "Shape of passed values is (1000, 8), indices imply (1000, 1)",
     "output_type": "error",
     "traceback": [
      "\u001b[1;31m---------------------------------------------------------------------------\u001b[0m",
      "\u001b[1;31mValueError\u001b[0m                                Traceback (most recent call last)",
      "Cell \u001b[1;32mIn[19], line 12\u001b[0m\n\u001b[0;32m      9\u001b[0m plt\u001b[38;5;241m.\u001b[39mshow()\n\u001b[0;32m     11\u001b[0m plt\u001b[38;5;241m.\u001b[39mfigure(figsize\u001b[38;5;241m=\u001b[39m(\u001b[38;5;241m15\u001b[39m,\u001b[38;5;241m4\u001b[39m))\n\u001b[1;32m---> 12\u001b[0m muestra_modelo(ExtraTreesRegressor(max_depth\u001b[38;5;241m=\u001b[39m\u001b[38;5;241m1\u001b[39m),X,y, \u001b[38;5;124m'\u001b[39m\u001b[38;5;124mExtraTrees - max_depth=1\u001b[39m\u001b[38;5;124m'\u001b[39m, subplot\u001b[38;5;241m=\u001b[39m(\u001b[38;5;241m1\u001b[39m,\u001b[38;5;241m3\u001b[39m,\u001b[38;5;241m1\u001b[39m))\n\u001b[0;32m     13\u001b[0m muestra_modelo(ExtraTreesRegressor(max_depth\u001b[38;5;241m=\u001b[39m\u001b[38;5;241m5\u001b[39m),X,y, \u001b[38;5;124m'\u001b[39m\u001b[38;5;124mExtraTrees - max_depth=5\u001b[39m\u001b[38;5;124m'\u001b[39m, subplot\u001b[38;5;241m=\u001b[39m(\u001b[38;5;241m1\u001b[39m,\u001b[38;5;241m3\u001b[39m,\u001b[38;5;241m2\u001b[39m))\n\u001b[0;32m     14\u001b[0m muestra_modelo(ExtraTreesRegressor(max_depth\u001b[38;5;241m=\u001b[39m\u001b[38;5;241m50\u001b[39m),X,y, \u001b[38;5;124m'\u001b[39m\u001b[38;5;124mExtraTrees - max_depth=50\u001b[39m\u001b[38;5;124m'\u001b[39m, subplot\u001b[38;5;241m=\u001b[39m(\u001b[38;5;241m1\u001b[39m,\u001b[38;5;241m3\u001b[39m,\u001b[38;5;241m3\u001b[39m))\n",
      "Cell \u001b[1;32mIn[18], line 26\u001b[0m, in \u001b[0;36mmuestra_modelo\u001b[1;34m(estimador, X, y, titulo, subplot)\u001b[0m\n\u001b[0;32m     24\u001b[0m min_x \u001b[38;5;241m=\u001b[39m X\u001b[38;5;241m.\u001b[39mmin()\n\u001b[0;32m     25\u001b[0m max_x \u001b[38;5;241m=\u001b[39m X\u001b[38;5;241m.\u001b[39mmax()\n\u001b[1;32m---> 26\u001b[0m xs \u001b[38;5;241m=\u001b[39m pd\u001b[38;5;241m.\u001b[39mDataFrame(np\u001b[38;5;241m.\u001b[39mlinspace(min_x, max_x, \u001b[38;5;241m1000\u001b[39m), columns\u001b[38;5;241m=\u001b[39m[\u001b[38;5;124m'\u001b[39m\u001b[38;5;124mx\u001b[39m\u001b[38;5;124m'\u001b[39m])\n\u001b[0;32m     27\u001b[0m y_pred \u001b[38;5;241m=\u001b[39m modelo\u001b[38;5;241m.\u001b[39mpredict(xs)\n\u001b[0;32m     28\u001b[0m sns\u001b[38;5;241m.\u001b[39mscatterplot(x\u001b[38;5;241m=\u001b[39mX[\u001b[38;5;124m'\u001b[39m\u001b[38;5;124mx\u001b[39m\u001b[38;5;124m'\u001b[39m], y\u001b[38;5;241m=\u001b[39my, color\u001b[38;5;241m=\u001b[39m\u001b[38;5;124m'\u001b[39m\u001b[38;5;124mblue\u001b[39m\u001b[38;5;124m'\u001b[39m)\n",
      "File \u001b[1;32m~\\AppData\\Roaming\\Python\\Python311\\site-packages\\pandas\\core\\frame.py:816\u001b[0m, in \u001b[0;36mDataFrame.__init__\u001b[1;34m(self, data, index, columns, dtype, copy)\u001b[0m\n\u001b[0;32m    805\u001b[0m         mgr \u001b[38;5;241m=\u001b[39m dict_to_mgr(\n\u001b[0;32m    806\u001b[0m             \u001b[38;5;66;03m# error: Item \"ndarray\" of \"Union[ndarray, Series, Index]\" has no\u001b[39;00m\n\u001b[0;32m    807\u001b[0m             \u001b[38;5;66;03m# attribute \"name\"\u001b[39;00m\n\u001b[1;32m   (...)\u001b[0m\n\u001b[0;32m    813\u001b[0m             copy\u001b[38;5;241m=\u001b[39m_copy,\n\u001b[0;32m    814\u001b[0m         )\n\u001b[0;32m    815\u001b[0m     \u001b[38;5;28;01melse\u001b[39;00m:\n\u001b[1;32m--> 816\u001b[0m         mgr \u001b[38;5;241m=\u001b[39m ndarray_to_mgr(\n\u001b[0;32m    817\u001b[0m             data,\n\u001b[0;32m    818\u001b[0m             index,\n\u001b[0;32m    819\u001b[0m             columns,\n\u001b[0;32m    820\u001b[0m             dtype\u001b[38;5;241m=\u001b[39mdtype,\n\u001b[0;32m    821\u001b[0m             copy\u001b[38;5;241m=\u001b[39mcopy,\n\u001b[0;32m    822\u001b[0m             typ\u001b[38;5;241m=\u001b[39mmanager,\n\u001b[0;32m    823\u001b[0m         )\n\u001b[0;32m    825\u001b[0m \u001b[38;5;66;03m# For data is list-like, or Iterable (will consume into list)\u001b[39;00m\n\u001b[0;32m    826\u001b[0m \u001b[38;5;28;01melif\u001b[39;00m is_list_like(data):\n",
      "File \u001b[1;32m~\\AppData\\Roaming\\Python\\Python311\\site-packages\\pandas\\core\\internals\\construction.py:336\u001b[0m, in \u001b[0;36mndarray_to_mgr\u001b[1;34m(values, index, columns, dtype, copy, typ)\u001b[0m\n\u001b[0;32m    331\u001b[0m \u001b[38;5;66;03m# _prep_ndarraylike ensures that values.ndim == 2 at this point\u001b[39;00m\n\u001b[0;32m    332\u001b[0m index, columns \u001b[38;5;241m=\u001b[39m _get_axes(\n\u001b[0;32m    333\u001b[0m     values\u001b[38;5;241m.\u001b[39mshape[\u001b[38;5;241m0\u001b[39m], values\u001b[38;5;241m.\u001b[39mshape[\u001b[38;5;241m1\u001b[39m], index\u001b[38;5;241m=\u001b[39mindex, columns\u001b[38;5;241m=\u001b[39mcolumns\n\u001b[0;32m    334\u001b[0m )\n\u001b[1;32m--> 336\u001b[0m _check_values_indices_shape_match(values, index, columns)\n\u001b[0;32m    338\u001b[0m \u001b[38;5;28;01mif\u001b[39;00m typ \u001b[38;5;241m==\u001b[39m \u001b[38;5;124m\"\u001b[39m\u001b[38;5;124marray\u001b[39m\u001b[38;5;124m\"\u001b[39m:\n\u001b[0;32m    339\u001b[0m     \u001b[38;5;28;01mif\u001b[39;00m \u001b[38;5;28missubclass\u001b[39m(values\u001b[38;5;241m.\u001b[39mdtype\u001b[38;5;241m.\u001b[39mtype, \u001b[38;5;28mstr\u001b[39m):\n",
      "File \u001b[1;32m~\\AppData\\Roaming\\Python\\Python311\\site-packages\\pandas\\core\\internals\\construction.py:420\u001b[0m, in \u001b[0;36m_check_values_indices_shape_match\u001b[1;34m(values, index, columns)\u001b[0m\n\u001b[0;32m    418\u001b[0m passed \u001b[38;5;241m=\u001b[39m values\u001b[38;5;241m.\u001b[39mshape\n\u001b[0;32m    419\u001b[0m implied \u001b[38;5;241m=\u001b[39m (\u001b[38;5;28mlen\u001b[39m(index), \u001b[38;5;28mlen\u001b[39m(columns))\n\u001b[1;32m--> 420\u001b[0m \u001b[38;5;28;01mraise\u001b[39;00m \u001b[38;5;167;01mValueError\u001b[39;00m(\u001b[38;5;124mf\u001b[39m\u001b[38;5;124m\"\u001b[39m\u001b[38;5;124mShape of passed values is \u001b[39m\u001b[38;5;132;01m{\u001b[39;00mpassed\u001b[38;5;132;01m}\u001b[39;00m\u001b[38;5;124m, indices imply \u001b[39m\u001b[38;5;132;01m{\u001b[39;00mimplied\u001b[38;5;132;01m}\u001b[39;00m\u001b[38;5;124m\"\u001b[39m)\n",
      "\u001b[1;31mValueError\u001b[0m: Shape of passed values is (1000, 8), indices imply (1000, 1)"
     ]
    },
    {
     "data": {
      "image/png": "[encoded data removed]",
      "text/plain": [
       "<Figure size 1500x400 with 1 Axes>"
      ]
     },
     "metadata": {},
     "output_type": "display_data"
    }
   ],
   "source": [
    "# EJERCICIO: mostrar la curva de aprendizaje para ExtraTreesRegressor y max_depth con valores en [1, 2, 3, 4, 5, 10, 20, 50]\n",
    "#            mostrar en otra figura las siguientes curvas de modelo de ExtraTreesRegressor:\n",
    "#               - Underfitting con max_depth=1, en subplot (1,3,1)\n",
    "#               - Buen ajuste con max_depth=5, en subplot (1,3,2)\n",
    "#               - Overfitting con ax_depth=50, en subplot (1,3,3)\n",
    "\n",
    "plt.figure(figsize=(6,5))\n",
    "muestra_curva_aprendizaje_complejidad(ExtraTreesRegressor(), X, y, 'max_depth', [1, 2, 3, 4, 5, 10, 20, 50])\n",
    "plt.show()\n",
    "\n",
    "plt.figure(figsize=(15,4))\n",
    "muestra_modelo(ExtraTreesRegressor(max_depth=1),X,y, 'ExtraTrees - max_depth=1', subplot=(1,3,1))\n",
    "muestra_modelo(ExtraTreesRegressor(max_depth=5),X,y, 'ExtraTrees - max_depth=5', subplot=(1,3,2))\n",
    "muestra_modelo(ExtraTreesRegressor(max_depth=50),X,y, 'ExtraTrees - max_depth=50', subplot=(1,3,3))\n",
    "\n",
    "plt.show()"
   ]
  },
  {
   "cell_type": "code",
   "execution_count": 21,
   "metadata": {},
   "outputs": [
    {
     "data": {
      "image/png": "[encoded data removed]",
      "text/plain": [
       "<Figure size 600x500 with 1 Axes>"
      ]
     },
     "metadata": {},
     "output_type": "display_data"
    },
    {
     "ename": "ValueError",
     "evalue": "Shape of passed values is (1000, 8), indices imply (1000, 1)",
     "output_type": "error",
     "traceback": [
      "\u001b[1;31m---------------------------------------------------------------------------\u001b[0m",
      "\u001b[1;31mValueError\u001b[0m                                Traceback (most recent call last)",
      "Cell \u001b[1;32mIn[21], line 13\u001b[0m\n\u001b[0;32m     10\u001b[0m plt\u001b[38;5;241m.\u001b[39mshow()\n\u001b[0;32m     12\u001b[0m plt\u001b[38;5;241m.\u001b[39mfigure(figsize\u001b[38;5;241m=\u001b[39m(\u001b[38;5;241m15\u001b[39m,\u001b[38;5;241m4\u001b[39m))\n\u001b[1;32m---> 13\u001b[0m muestra_modelo(KNeighborsRegressor(\u001b[38;5;241m50\u001b[39m), X, y, \u001b[38;5;124m'\u001b[39m\u001b[38;5;124mVecinos más cercanas - 50\u001b[39m\u001b[38;5;124m'\u001b[39m, subplot\u001b[38;5;241m=\u001b[39m(\u001b[38;5;241m1\u001b[39m,\u001b[38;5;241m3\u001b[39m,\u001b[38;5;241m1\u001b[39m))\n\u001b[0;32m     14\u001b[0m muestra_modelo(KNeighborsRegressor(\u001b[38;5;241m10\u001b[39m), X, y, \u001b[38;5;124m'\u001b[39m\u001b[38;5;124mVecinos más cercanas - 10\u001b[39m\u001b[38;5;124m'\u001b[39m, subplot\u001b[38;5;241m=\u001b[39m(\u001b[38;5;241m1\u001b[39m,\u001b[38;5;241m3\u001b[39m,\u001b[38;5;241m2\u001b[39m))\n\u001b[0;32m     15\u001b[0m muestra_modelo(KNeighborsRegressor(\u001b[38;5;241m1\u001b[39m), X, y, \u001b[38;5;124m'\u001b[39m\u001b[38;5;124mVecinos más cercanas - 1\u001b[39m\u001b[38;5;124m'\u001b[39m, subplot\u001b[38;5;241m=\u001b[39m(\u001b[38;5;241m1\u001b[39m,\u001b[38;5;241m3\u001b[39m,\u001b[38;5;241m3\u001b[39m))\n",
      "Cell \u001b[1;32mIn[18], line 26\u001b[0m, in \u001b[0;36mmuestra_modelo\u001b[1;34m(estimador, X, y, titulo, subplot)\u001b[0m\n\u001b[0;32m     24\u001b[0m min_x \u001b[38;5;241m=\u001b[39m X\u001b[38;5;241m.\u001b[39mmin()\n\u001b[0;32m     25\u001b[0m max_x \u001b[38;5;241m=\u001b[39m X\u001b[38;5;241m.\u001b[39mmax()\n\u001b[1;32m---> 26\u001b[0m xs \u001b[38;5;241m=\u001b[39m pd\u001b[38;5;241m.\u001b[39mDataFrame(np\u001b[38;5;241m.\u001b[39mlinspace(min_x, max_x, \u001b[38;5;241m1000\u001b[39m), columns\u001b[38;5;241m=\u001b[39m[\u001b[38;5;124m'\u001b[39m\u001b[38;5;124mx\u001b[39m\u001b[38;5;124m'\u001b[39m])\n\u001b[0;32m     27\u001b[0m y_pred \u001b[38;5;241m=\u001b[39m modelo\u001b[38;5;241m.\u001b[39mpredict(xs)\n\u001b[0;32m     28\u001b[0m sns\u001b[38;5;241m.\u001b[39mscatterplot(x\u001b[38;5;241m=\u001b[39mX[\u001b[38;5;124m'\u001b[39m\u001b[38;5;124mx\u001b[39m\u001b[38;5;124m'\u001b[39m], y\u001b[38;5;241m=\u001b[39my, color\u001b[38;5;241m=\u001b[39m\u001b[38;5;124m'\u001b[39m\u001b[38;5;124mblue\u001b[39m\u001b[38;5;124m'\u001b[39m)\n",
      "File \u001b[1;32m~\\AppData\\Roaming\\Python\\Python311\\site-packages\\pandas\\core\\frame.py:816\u001b[0m, in \u001b[0;36mDataFrame.__init__\u001b[1;34m(self, data, index, columns, dtype, copy)\u001b[0m\n\u001b[0;32m    805\u001b[0m         mgr \u001b[38;5;241m=\u001b[39m dict_to_mgr(\n\u001b[0;32m    806\u001b[0m             \u001b[38;5;66;03m# error: Item \"ndarray\" of \"Union[ndarray, Series, Index]\" has no\u001b[39;00m\n\u001b[0;32m    807\u001b[0m             \u001b[38;5;66;03m# attribute \"name\"\u001b[39;00m\n\u001b[1;32m   (...)\u001b[0m\n\u001b[0;32m    813\u001b[0m             copy\u001b[38;5;241m=\u001b[39m_copy,\n\u001b[0;32m    814\u001b[0m         )\n\u001b[0;32m    815\u001b[0m     \u001b[38;5;28;01melse\u001b[39;00m:\n\u001b[1;32m--> 816\u001b[0m         mgr \u001b[38;5;241m=\u001b[39m ndarray_to_mgr(\n\u001b[0;32m    817\u001b[0m             data,\n\u001b[0;32m    818\u001b[0m             index,\n\u001b[0;32m    819\u001b[0m             columns,\n\u001b[0;32m    820\u001b[0m             dtype\u001b[38;5;241m=\u001b[39mdtype,\n\u001b[0;32m    821\u001b[0m             copy\u001b[38;5;241m=\u001b[39mcopy,\n\u001b[0;32m    822\u001b[0m             typ\u001b[38;5;241m=\u001b[39mmanager,\n\u001b[0;32m    823\u001b[0m         )\n\u001b[0;32m    825\u001b[0m \u001b[38;5;66;03m# For data is list-like, or Iterable (will consume into list)\u001b[39;00m\n\u001b[0;32m    826\u001b[0m \u001b[38;5;28;01melif\u001b[39;00m is_list_like(data):\n",
      "File \u001b[1;32m~\\AppData\\Roaming\\Python\\Python311\\site-packages\\pandas\\core\\internals\\construction.py:336\u001b[0m, in \u001b[0;36mndarray_to_mgr\u001b[1;34m(values, index, columns, dtype, copy, typ)\u001b[0m\n\u001b[0;32m    331\u001b[0m \u001b[38;5;66;03m# _prep_ndarraylike ensures that values.ndim == 2 at this point\u001b[39;00m\n\u001b[0;32m    332\u001b[0m index, columns \u001b[38;5;241m=\u001b[39m _get_axes(\n\u001b[0;32m    333\u001b[0m     values\u001b[38;5;241m.\u001b[39mshape[\u001b[38;5;241m0\u001b[39m], values\u001b[38;5;241m.\u001b[39mshape[\u001b[38;5;241m1\u001b[39m], index\u001b[38;5;241m=\u001b[39mindex, columns\u001b[38;5;241m=\u001b[39mcolumns\n\u001b[0;32m    334\u001b[0m )\n\u001b[1;32m--> 336\u001b[0m _check_values_indices_shape_match(values, index, columns)\n\u001b[0;32m    338\u001b[0m \u001b[38;5;28;01mif\u001b[39;00m typ \u001b[38;5;241m==\u001b[39m \u001b[38;5;124m\"\u001b[39m\u001b[38;5;124marray\u001b[39m\u001b[38;5;124m\"\u001b[39m:\n\u001b[0;32m    339\u001b[0m     \u001b[38;5;28;01mif\u001b[39;00m \u001b[38;5;28missubclass\u001b[39m(values\u001b[38;5;241m.\u001b[39mdtype\u001b[38;5;241m.\u001b[39mtype, \u001b[38;5;28mstr\u001b[39m):\n",
      "File \u001b[1;32m~\\AppData\\Roaming\\Python\\Python311\\site-packages\\pandas\\core\\internals\\construction.py:420\u001b[0m, in \u001b[0;36m_check_values_indices_shape_match\u001b[1;34m(values, index, columns)\u001b[0m\n\u001b[0;32m    418\u001b[0m passed \u001b[38;5;241m=\u001b[39m values\u001b[38;5;241m.\u001b[39mshape\n\u001b[0;32m    419\u001b[0m implied \u001b[38;5;241m=\u001b[39m (\u001b[38;5;28mlen\u001b[39m(index), \u001b[38;5;28mlen\u001b[39m(columns))\n\u001b[1;32m--> 420\u001b[0m \u001b[38;5;28;01mraise\u001b[39;00m \u001b[38;5;167;01mValueError\u001b[39;00m(\u001b[38;5;124mf\u001b[39m\u001b[38;5;124m\"\u001b[39m\u001b[38;5;124mShape of passed values is \u001b[39m\u001b[38;5;132;01m{\u001b[39;00mpassed\u001b[38;5;132;01m}\u001b[39;00m\u001b[38;5;124m, indices imply \u001b[39m\u001b[38;5;132;01m{\u001b[39;00mimplied\u001b[38;5;132;01m}\u001b[39;00m\u001b[38;5;124m\"\u001b[39m)\n",
      "\u001b[1;31mValueError\u001b[0m: Shape of passed values is (1000, 8), indices imply (1000, 1)"
     ]
    },
    {
     "data": {
      "image/png": "[encoded data removed]",
      "text/plain": [
       "<Figure size 1500x400 with 1 Axes>"
      ]
     },
     "metadata": {},
     "output_type": "display_data"
    }
   ],
   "source": [
    "# EJERCICIO: mostrar la curva de aprendizaje para KNeighborsRegressor() y n_neighbors con valores en range(1,50)\n",
    "#            mostrar en otra figura las siguientes curvas de modelo de KNeighborsRegressor:\n",
    "#               - Underfitting con k=50, en subplot (1,3,1)\n",
    "#               - Buen ajuste con k=15, en subplot (1,3,2)\n",
    "#               - Overfitting con k=1, en subplot (1,3,3)\n",
    "from sklearn.neighbors import KNeighborsRegressor\n",
    "\n",
    "plt.figure(figsize=(6,5))\n",
    "muestra_curva_aprendizaje_complejidad(KNeighborsRegressor(), X, y, 'n_neighbors', range(1,50))\n",
    "plt.show()\n",
    "\n",
    "plt.figure(figsize=(15,4))\n",
    "muestra_modelo(KNeighborsRegressor(50), X, y, 'Vecinos más cercanas - 50', subplot=(1,3,1))\n",
    "muestra_modelo(KNeighborsRegressor(10), X, y, 'Vecinos más cercanas - 10', subplot=(1,3,2))\n",
    "muestra_modelo(KNeighborsRegressor(1), X, y, 'Vecinos más cercanas - 1', subplot=(1,3,3))\n",
    "plt.show()"
   ]
  },
  {
   "cell_type": "code",
   "execution_count": null,
   "metadata": {},
   "outputs": [],
   "source": []
  }
 ],
 "metadata": {
  "kernelspec": {
   "display_name": "Python 3 (ipykernel)",
   "language": "python",
   "name": "python3"
  },
  "language_info": {
   "codemirror_mode": {
    "name": "ipython",
    "version": 3
   },
   "file_extension": ".py",
   "mimetype": "text/x-python",
   "name": "python",
   "nbconvert_exporter": "python",
   "pygments_lexer": "ipython3",
   "version": "3.11.5"
  }
 },
 "nbformat": 4,
 "nbformat_minor": 4
}
