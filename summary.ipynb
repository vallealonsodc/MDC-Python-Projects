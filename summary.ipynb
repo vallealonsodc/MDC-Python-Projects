{
 "cells": [
  {
   "cell_type": "markdown",
   "id": "b2b578a8",
   "metadata": {},
   "source": [
    "# ESQUEMA DE CONTENIDOS\n",
    "\n",
    "### - 0. ESTRUCTURAS DE DATOS\n",
    "\n",
    "- #### Series\n",
    "- #### Dataframes\n",
    "\n",
    "### - 1. LECTURA DE DATASETS\n",
    "\n",
    "- #### Métodos para obtener información del dataset\n",
    "- #### Métodos de operaciones básicas"
   ]
  },
  {
   "cell_type": "markdown",
   "id": "e4bab86c",
   "metadata": {},
   "source": [
    "# 0. ESTRUCTURAS DE DATOS"
   ]
  },
  {
   "cell_type": "markdown",
   "id": "f85ffebf",
   "metadata": {},
   "source": [
    "Pandas es una librería desarrollada sobre Numpy para la manipulación y análisis de datos. Proporciona, entre otras cosas, dos estructuras para representar datos: \n",
    "- <code>Series</code> para datos vectoriales                              <xi, xii, ..., xn>\n",
    "- <code>DataFrame</code> para datasets                                    [ ]x[]\n",
    "\n",
    "Importaremos pandas y numpy de la siguiente forma:"
   ]
  },
  {
   "cell_type": "code",
   "execution_count": 8,
   "id": "6575348d",
   "metadata": {},
   "outputs": [],
   "source": [
    "import numpy as np\n",
    "import pandas as pd"
   ]
  },
  {
   "cell_type": "markdown",
   "id": "648c02db",
   "metadata": {},
   "source": [
    "## a) Series\n",
    "En primer lugar, las series están indexadas y ordenadas por filas. Cualquier tipo puede ser índice de una serie siempre que sea inmutable."
   ]
  },
  {
   "cell_type": "code",
   "execution_count": 9,
   "id": "c65e134e",
   "metadata": {},
   "outputs": [
    {
     "data": {
      "text/plain": [
       "a    1\n",
       "e    2\n",
       "i    3\n",
       "o    4\n",
       "u    5\n",
       "dtype: int64"
      ]
     },
     "execution_count": 9,
     "metadata": {},
     "output_type": "execute_result"
    }
   ],
   "source": [
    "numeros_ix_ch = pd.Series(range(1,6),\n",
    "                          index=['a', 'e', 'i', 'o', 'u']) \n",
    "\n",
    "numeros_ix_ch"
   ]
  },
  {
   "cell_type": "markdown",
   "id": "50d144cf",
   "metadata": {},
   "source": [
    "### -- Smart Indexing sobre Series"
   ]
  },
  {
   "cell_type": "code",
   "execution_count": null,
   "id": "8ff2d024",
   "metadata": {},
   "outputs": [],
   "source": [
    "#    - elemento 0 de la serie 'numeros'\n",
    "print(\"A:\", numeros[0], \"\\n\")\n",
    "\n",
    "#    - serie con los elementos 1-3 de la serie 'numeros'\n",
    "print(\"B:\", numeros[1:4], \"\\n\")\n",
    "\n",
    "#    - elemento de la serie 'numeros_ix_ch' indexado con el carácter 'e'\n",
    "print(\"C:\", numeros_ix_ch['e'], \"\\n\")\n",
    "\n",
    "#    - serie con los elementos de la serie 'numeros' que sean mayores que 3\n",
    "print(\"D:\", numeros[numeros>3], \"\\n\")"
   ]
  },
  {
   "cell_type": "markdown",
   "id": "07bcb4ec",
   "metadata": {},
   "source": [
    "## b) DataFrames\n",
    "En segundo lugar, los dataframes están indexados y ordenados por filas y por columnas. "
   ]
  },
  {
   "cell_type": "code",
   "execution_count": 17,
   "id": "e6cd7312",
   "metadata": {},
   "outputs": [],
   "source": [
    "df_col = pd.DataFrame(np.random.rand(10,3),\n",
    "                      columns=['C1', 'C2', 'C3'], \n",
    "                      index=[1,2,3,4,5,6,7,8,9,10] #-- también se podría modificar el índice\n",
    "                     )"
   ]
  },
  {
   "cell_type": "markdown",
   "id": "5a832013",
   "metadata": {},
   "source": [
    "### -- Smart indexing sobre DataFrames"
   ]
  },
  {
   "cell_type": "code",
   "execution_count": 21,
   "id": "553ee180",
   "metadata": {},
   "outputs": [
    {
     "name": "stdout",
     "output_type": "stream",
     "text": [
      "C1    0.757004\n",
      "C2    0.394499\n",
      "C3    0.322542\n",
      "Name: 3, dtype: float64\n",
      "C1    0.582653\n",
      "C2    0.017676\n",
      "C3    0.385655\n",
      "Name: 3, dtype: float64\n",
      "0.38671456904098667\n",
      "1     0.691754\n",
      "2     0.379750\n",
      "3     0.582653\n",
      "4     0.714746\n",
      "5     0.329680\n",
      "6     0.931237\n",
      "7     0.660141\n",
      "8     0.954983\n",
      "9     0.353382\n",
      "10    0.612431\n",
      "Name: C1, dtype: float64\n"
     ]
    }
   ],
   "source": [
    "# -- Básico\n",
    "\n",
    "#    - fila 3 del dataframe 'df'\n",
    "#    - fila 3 del dataframe 'df_col'\n",
    "\n",
    "print(df.iloc[2])\n",
    "print(df_col.iloc[2])\n",
    "\n",
    "#    - columna 1 de la fila 3 del dataframe 'df'\n",
    "#    - columna 'C1' del dataframe df_col <-- Importante\n",
    "\n",
    "print(df_col.iloc[3, 1])         #<--- Ojo: .iloc se usa para acceder al índice numeral por defecto\n",
    "print(df_col.loc[:,'C1'])        #<--- Ojo: .loc se usa para acceder a la etiqueta de índice"
   ]
  },
  {
   "cell_type": "code",
   "execution_count": 23,
   "id": "9b320c73",
   "metadata": {},
   "outputs": [
    {
     "name": "stdout",
     "output_type": "stream",
     "text": [
      "          C1        C3\n",
      "1   0.691754  0.999055\n",
      "2   0.379750  0.464672\n",
      "3   0.582653  0.385655\n",
      "4   0.714746  0.869018\n",
      "5   0.329680  0.601777\n",
      "6   0.931237  0.447640\n",
      "7   0.660141  0.276498\n",
      "8   0.954983  0.130196\n",
      "9   0.353382  0.185248\n",
      "10  0.612431  0.463590 \n",
      "\n",
      "          C1        C2        C3\n",
      "7   0.660141  0.519860  0.276498\n",
      "8   0.954983  0.860839  0.130196\n",
      "10  0.612431  0.855283  0.463590 \n",
      "\n",
      "          C1        C3\n",
      "7   0.660141  0.276498\n",
      "8   0.954983  0.130196\n",
      "10  0.612431  0.463590 \n",
      "\n",
      "          C1        C2        C3\n",
      "7   0.660141  0.519860  0.276498\n",
      "8   0.954983  0.860839  0.130196\n",
      "10  0.612431  0.855283  0.463590\n"
     ]
    }
   ],
   "source": [
    "# -- Avanzado\n",
    "\n",
    "#    - dataframe compuesto por las columnas 'C1' y 'C3' del dataframe 'df_col'\n",
    "print(df_col.loc[:,['C1','C3']], \"\\n\")\n",
    "\n",
    "#    - dataframe compuesto por las filas del dataframe 'df_col' cuyo valor de 'C2' sea mayor que 0.5\n",
    "condition = df_col.loc[:,'C2']>0.5\n",
    "print(df_col.loc[condition], \"\\n\")\n",
    "\n",
    "#    - dataframe compuesto por las columnas 'C1' y 'C3', con las filas cuyo valor de 'C2' sea mayor que 0.5\n",
    "print(df_col.loc[df_col.loc[:,'C2']>0.5, \n",
    "                ['C1','C3']], '\\n')\n",
    "\n",
    "#    - dataframe con todas las columnas y con las filas en las que 'C2' sea mayor que 0.5 y 'C3' sea menor que 0.5\n",
    "condition = (df_col.loc[:, 'C2']>0.5) & (df_col.loc[:, 'C3']<0.5)\n",
    "print(df_col.loc[condition])"
   ]
  },
  {
   "cell_type": "markdown",
   "id": "b5b0256d",
   "metadata": {},
   "source": [
    "# 1. LECTURA DE DATASETS"
   ]
  },
  {
   "cell_type": "markdown",
   "id": "7b981a13",
   "metadata": {},
   "source": [
    "Para la lectura de datasets utilizamos la librería pandas, que generará un DataFrame a partir del archivo csv."
   ]
  },
  {
   "cell_type": "code",
   "execution_count": 27,
   "id": "fb65fed7",
   "metadata": {},
   "outputs": [],
   "source": [
    "# EJERCICIO: leer el fichero de datos './train-bike.csv' en un dataframe\n",
    "DATOS_PD = pd.read_csv('./2. Lectura de datasets/train-bike.csv')"
   ]
  },
  {
   "cell_type": "code",
   "execution_count": 28,
   "id": "b9566e67",
   "metadata": {},
   "outputs": [
    {
     "data": {
      "text/html": [
       "<div>\n",
       "<style scoped>\n",
       "    .dataframe tbody tr th:only-of-type {\n",
       "        vertical-align: middle;\n",
       "    }\n",
       "\n",
       "    .dataframe tbody tr th {\n",
       "        vertical-align: top;\n",
       "    }\n",
       "\n",
       "    .dataframe thead th {\n",
       "        text-align: right;\n",
       "    }\n",
       "</style>\n",
       "<table border=\"1\" class=\"dataframe\">\n",
       "  <thead>\n",
       "    <tr style=\"text-align: right;\">\n",
       "      <th></th>\n",
       "      <th>datetime</th>\n",
       "      <th>season</th>\n",
       "      <th>holiday</th>\n",
       "      <th>workingday</th>\n",
       "      <th>weather</th>\n",
       "      <th>temp</th>\n",
       "      <th>atemp</th>\n",
       "      <th>humidity</th>\n",
       "      <th>windspeed</th>\n",
       "      <th>casual</th>\n",
       "      <th>registered</th>\n",
       "      <th>count</th>\n",
       "    </tr>\n",
       "  </thead>\n",
       "  <tbody>\n",
       "    <tr>\n",
       "      <th>0</th>\n",
       "      <td>2011-01-01 00:00:00</td>\n",
       "      <td>1</td>\n",
       "      <td>0</td>\n",
       "      <td>0</td>\n",
       "      <td>1</td>\n",
       "      <td>9.84</td>\n",
       "      <td>14.395</td>\n",
       "      <td>81</td>\n",
       "      <td>0.0000</td>\n",
       "      <td>3</td>\n",
       "      <td>13</td>\n",
       "      <td>16</td>\n",
       "    </tr>\n",
       "    <tr>\n",
       "      <th>1</th>\n",
       "      <td>2011-01-01 01:00:00</td>\n",
       "      <td>1</td>\n",
       "      <td>0</td>\n",
       "      <td>0</td>\n",
       "      <td>1</td>\n",
       "      <td>9.02</td>\n",
       "      <td>13.635</td>\n",
       "      <td>80</td>\n",
       "      <td>0.0000</td>\n",
       "      <td>8</td>\n",
       "      <td>32</td>\n",
       "      <td>40</td>\n",
       "    </tr>\n",
       "    <tr>\n",
       "      <th>2</th>\n",
       "      <td>2011-01-01 02:00:00</td>\n",
       "      <td>1</td>\n",
       "      <td>0</td>\n",
       "      <td>0</td>\n",
       "      <td>1</td>\n",
       "      <td>9.02</td>\n",
       "      <td>13.635</td>\n",
       "      <td>80</td>\n",
       "      <td>0.0000</td>\n",
       "      <td>5</td>\n",
       "      <td>27</td>\n",
       "      <td>32</td>\n",
       "    </tr>\n",
       "    <tr>\n",
       "      <th>3</th>\n",
       "      <td>2011-01-01 03:00:00</td>\n",
       "      <td>1</td>\n",
       "      <td>0</td>\n",
       "      <td>0</td>\n",
       "      <td>1</td>\n",
       "      <td>9.84</td>\n",
       "      <td>14.395</td>\n",
       "      <td>75</td>\n",
       "      <td>0.0000</td>\n",
       "      <td>3</td>\n",
       "      <td>10</td>\n",
       "      <td>13</td>\n",
       "    </tr>\n",
       "    <tr>\n",
       "      <th>4</th>\n",
       "      <td>2011-01-01 04:00:00</td>\n",
       "      <td>1</td>\n",
       "      <td>0</td>\n",
       "      <td>0</td>\n",
       "      <td>1</td>\n",
       "      <td>9.84</td>\n",
       "      <td>14.395</td>\n",
       "      <td>75</td>\n",
       "      <td>0.0000</td>\n",
       "      <td>0</td>\n",
       "      <td>1</td>\n",
       "      <td>1</td>\n",
       "    </tr>\n",
       "    <tr>\n",
       "      <th>...</th>\n",
       "      <td>...</td>\n",
       "      <td>...</td>\n",
       "      <td>...</td>\n",
       "      <td>...</td>\n",
       "      <td>...</td>\n",
       "      <td>...</td>\n",
       "      <td>...</td>\n",
       "      <td>...</td>\n",
       "      <td>...</td>\n",
       "      <td>...</td>\n",
       "      <td>...</td>\n",
       "      <td>...</td>\n",
       "    </tr>\n",
       "    <tr>\n",
       "      <th>10881</th>\n",
       "      <td>2012-12-19 19:00:00</td>\n",
       "      <td>4</td>\n",
       "      <td>0</td>\n",
       "      <td>1</td>\n",
       "      <td>1</td>\n",
       "      <td>15.58</td>\n",
       "      <td>19.695</td>\n",
       "      <td>50</td>\n",
       "      <td>26.0027</td>\n",
       "      <td>7</td>\n",
       "      <td>329</td>\n",
       "      <td>336</td>\n",
       "    </tr>\n",
       "    <tr>\n",
       "      <th>10882</th>\n",
       "      <td>2012-12-19 20:00:00</td>\n",
       "      <td>4</td>\n",
       "      <td>0</td>\n",
       "      <td>1</td>\n",
       "      <td>1</td>\n",
       "      <td>14.76</td>\n",
       "      <td>17.425</td>\n",
       "      <td>57</td>\n",
       "      <td>15.0013</td>\n",
       "      <td>10</td>\n",
       "      <td>231</td>\n",
       "      <td>241</td>\n",
       "    </tr>\n",
       "    <tr>\n",
       "      <th>10883</th>\n",
       "      <td>2012-12-19 21:00:00</td>\n",
       "      <td>4</td>\n",
       "      <td>0</td>\n",
       "      <td>1</td>\n",
       "      <td>1</td>\n",
       "      <td>13.94</td>\n",
       "      <td>15.910</td>\n",
       "      <td>61</td>\n",
       "      <td>15.0013</td>\n",
       "      <td>4</td>\n",
       "      <td>164</td>\n",
       "      <td>168</td>\n",
       "    </tr>\n",
       "    <tr>\n",
       "      <th>10884</th>\n",
       "      <td>2012-12-19 22:00:00</td>\n",
       "      <td>4</td>\n",
       "      <td>0</td>\n",
       "      <td>1</td>\n",
       "      <td>1</td>\n",
       "      <td>13.94</td>\n",
       "      <td>17.425</td>\n",
       "      <td>61</td>\n",
       "      <td>6.0032</td>\n",
       "      <td>12</td>\n",
       "      <td>117</td>\n",
       "      <td>129</td>\n",
       "    </tr>\n",
       "    <tr>\n",
       "      <th>10885</th>\n",
       "      <td>2012-12-19 23:00:00</td>\n",
       "      <td>4</td>\n",
       "      <td>0</td>\n",
       "      <td>1</td>\n",
       "      <td>1</td>\n",
       "      <td>13.12</td>\n",
       "      <td>16.665</td>\n",
       "      <td>66</td>\n",
       "      <td>8.9981</td>\n",
       "      <td>4</td>\n",
       "      <td>84</td>\n",
       "      <td>88</td>\n",
       "    </tr>\n",
       "  </tbody>\n",
       "</table>\n",
       "<p>10886 rows × 12 columns</p>\n",
       "</div>"
      ],
      "text/plain": [
       "                  datetime  season  holiday  workingday  weather   temp  \\\n",
       "0      2011-01-01 00:00:00       1        0           0        1   9.84   \n",
       "1      2011-01-01 01:00:00       1        0           0        1   9.02   \n",
       "2      2011-01-01 02:00:00       1        0           0        1   9.02   \n",
       "3      2011-01-01 03:00:00       1        0           0        1   9.84   \n",
       "4      2011-01-01 04:00:00       1        0           0        1   9.84   \n",
       "...                    ...     ...      ...         ...      ...    ...   \n",
       "10881  2012-12-19 19:00:00       4        0           1        1  15.58   \n",
       "10882  2012-12-19 20:00:00       4        0           1        1  14.76   \n",
       "10883  2012-12-19 21:00:00       4        0           1        1  13.94   \n",
       "10884  2012-12-19 22:00:00       4        0           1        1  13.94   \n",
       "10885  2012-12-19 23:00:00       4        0           1        1  13.12   \n",
       "\n",
       "        atemp  humidity  windspeed  casual  registered  count  \n",
       "0      14.395        81     0.0000       3          13     16  \n",
       "1      13.635        80     0.0000       8          32     40  \n",
       "2      13.635        80     0.0000       5          27     32  \n",
       "3      14.395        75     0.0000       3          10     13  \n",
       "4      14.395        75     0.0000       0           1      1  \n",
       "...       ...       ...        ...     ...         ...    ...  \n",
       "10881  19.695        50    26.0027       7         329    336  \n",
       "10882  17.425        57    15.0013      10         231    241  \n",
       "10883  15.910        61    15.0013       4         164    168  \n",
       "10884  17.425        61     6.0032      12         117    129  \n",
       "10885  16.665        66     8.9981       4          84     88  \n",
       "\n",
       "[10886 rows x 12 columns]"
      ]
     },
     "execution_count": 28,
     "metadata": {},
     "output_type": "execute_result"
    }
   ],
   "source": [
    "# TEST: de la operación de lectura\n",
    "DATOS_PD"
   ]
  },
  {
   "cell_type": "markdown",
   "id": "c8cc9402",
   "metadata": {},
   "source": [
    "### -- Algunos métodos para obtener información sobre el dataset\n",
    "Una vez cargado el dataset inicial, podemos realizar una breve exploración inicial mediante los siguiente métodos."
   ]
  },
  {
   "cell_type": "code",
   "execution_count": 29,
   "id": "1adcd8d2",
   "metadata": {},
   "outputs": [
    {
     "name": "stdout",
     "output_type": "stream",
     "text": [
      "<class 'pandas.core.frame.DataFrame'>\n",
      "RangeIndex: 10886 entries, 0 to 10885\n",
      "Data columns (total 12 columns):\n",
      " #   Column      Non-Null Count  Dtype  \n",
      "---  ------      --------------  -----  \n",
      " 0   datetime    10886 non-null  object \n",
      " 1   season      10886 non-null  int64  \n",
      " 2   holiday     10886 non-null  int64  \n",
      " 3   workingday  10886 non-null  int64  \n",
      " 4   weather     10886 non-null  int64  \n",
      " 5   temp        10886 non-null  float64\n",
      " 6   atemp       10886 non-null  float64\n",
      " 7   humidity    10886 non-null  int64  \n",
      " 8   windspeed   10886 non-null  float64\n",
      " 9   casual      10886 non-null  int64  \n",
      " 10  registered  10886 non-null  int64  \n",
      " 11  count       10886 non-null  int64  \n",
      "dtypes: float64(3), int64(8), object(1)\n",
      "memory usage: 1020.7+ KB\n",
      "None \n",
      "\n",
      "             season       holiday    workingday       weather         temp  \\\n",
      "count  10886.000000  10886.000000  10886.000000  10886.000000  10886.00000   \n",
      "mean       2.506614      0.028569      0.680875      1.418427     20.23086   \n",
      "std        1.116174      0.166599      0.466159      0.633839      7.79159   \n",
      "min        1.000000      0.000000      0.000000      1.000000      0.82000   \n",
      "25%        2.000000      0.000000      0.000000      1.000000     13.94000   \n",
      "50%        3.000000      0.000000      1.000000      1.000000     20.50000   \n",
      "75%        4.000000      0.000000      1.000000      2.000000     26.24000   \n",
      "max        4.000000      1.000000      1.000000      4.000000     41.00000   \n",
      "\n",
      "              atemp      humidity     windspeed        casual    registered  \\\n",
      "count  10886.000000  10886.000000  10886.000000  10886.000000  10886.000000   \n",
      "mean      23.655084     61.886460     12.799395     36.021955    155.552177   \n",
      "std        8.474601     19.245033      8.164537     49.960477    151.039033   \n",
      "min        0.760000      0.000000      0.000000      0.000000      0.000000   \n",
      "25%       16.665000     47.000000      7.001500      4.000000     36.000000   \n",
      "50%       24.240000     62.000000     12.998000     17.000000    118.000000   \n",
      "75%       31.060000     77.000000     16.997900     49.000000    222.000000   \n",
      "max       45.455000    100.000000     56.996900    367.000000    886.000000   \n",
      "\n",
      "              count  \n",
      "count  10886.000000  \n",
      "mean     191.574132  \n",
      "std      181.144454  \n",
      "min        1.000000  \n",
      "25%       42.000000  \n",
      "50%      145.000000  \n",
      "75%      284.000000  \n",
      "max      977.000000   \n",
      "\n",
      "datetime       object\n",
      "season          int64\n",
      "holiday         int64\n",
      "workingday      int64\n",
      "weather         int64\n",
      "temp          float64\n",
      "atemp         float64\n",
      "humidity        int64\n",
      "windspeed     float64\n",
      "casual          int64\n",
      "registered      int64\n",
      "count           int64\n",
      "dtype: object \n",
      "\n",
      "[['2011-01-01 00:00:00' 1 0 ... 3 13 16]\n",
      " ['2011-01-01 01:00:00' 1 0 ... 8 32 40]\n",
      " ['2011-01-01 02:00:00' 1 0 ... 5 27 32]\n",
      " ...\n",
      " ['2012-12-19 21:00:00' 4 0 ... 4 164 168]\n",
      " ['2012-12-19 22:00:00' 4 0 ... 12 117 129]\n",
      " ['2012-12-19 23:00:00' 4 0 ... 4 84 88]] \n",
      "\n"
     ]
    }
   ],
   "source": [
    "# EJERCICIO: probar los métodos de los dataframes para las siguientes operaciones:\n",
    "\n",
    "#    - Mostrar información sobre las columnas\n",
    "print(DATOS_PD.info(), '\\n')\n",
    "\n",
    "#    - Mostrar indicadores estadísticos sobre las columnas\n",
    "print(DATOS_PD.describe(), '\\n')\n",
    "\n",
    "#    - Mostrar los tipos de las columnas\n",
    "print(DATOS_PD.dtypes, '\\n')\n",
    "\n",
    "\n",
    "#    - Obtener una matriz numpy con los valores de los datos\n",
    "print(DATOS_PD.values, '\\n')\n"
   ]
  },
  {
   "cell_type": "markdown",
   "id": "73afd2e9",
   "metadata": {},
   "source": [
    "## Métodos para realizar operaciones y combinaciones sobre el dataset"
   ]
  },
  {
   "cell_type": "markdown",
   "id": "4161b6db",
   "metadata": {},
   "source": [
    "### -- Operaciones estadísticas\n",
    "- <code>.value_counts()</code>: cuenta el número de ocurrencias o frecuencia de un atributo\n",
    "- <code>pd.cut(df, bins)</code>: divide el rango de valores de un atributo en cuantiles"
   ]
  },
  {
   "cell_type": "code",
   "execution_count": null,
   "id": "a6daadf0",
   "metadata": {},
   "outputs": [],
   "source": [
    "#    - contar cuántas ocurrencias de cada valor del atributo season hay en el dataset.\n",
    "print(DATOS_PD['season'].value_counts(), '\\n')\n",
    "\n",
    "#    - dividir el rango de valores de temp en diez partes y calcular cuántos elementos hay en cada uno de esos segmentos. \n",
    "print(pd.cut(DATOS_PD['temp'], bins=10).value_counts())"
   ]
  },
  {
   "cell_type": "markdown",
   "id": "8587dfb6",
   "metadata": {},
   "source": [
    "### -- Combinaciones básicas"
   ]
  },
  {
   "cell_type": "code",
   "execution_count": null,
   "id": "5f1c9e4a",
   "metadata": {},
   "outputs": [],
   "source": [
    "#    - crear un atributo temp_wind que se calcule mediante la diferencia entre temp y windspeed.\n",
    "DATOS_PD['temp_wind'] = DATOS_PD['temp']- DATOS_PD['windspeed']\n",
    "print(DATOS_PD['temp_wind'])\n",
    "\n",
    "#    - normalizar (de 0 a 1) las columnas season y weather guardándolas en las columnas 'season_norm' y 'weather_norm'.\n",
    "DATOS_PD['season_norm'] = DATOS_PD['season']/max(DATOS_PD['season'])\n",
    "print(DATOS_PD['season_norm'])"
   ]
  },
  {
   "cell_type": "code",
   "execution_count": null,
   "id": "08ebcb6e",
   "metadata": {},
   "outputs": [],
   "source": [
    "#    - concatenar dos datasets\n",
    "DATOS_TEST_PD = pd.read_csv('./2. Lectura de datasets/test-bike.csv')\n",
    "\n",
    "DATOS_PD_wh = DATOS_PD[['weather', 'humidity']]\n",
    "DATOS_TEST_PD_wh = DATOS_TEST_PD[['weather', 'humidity']]\n",
    "\n",
    "NUEVO_DF = pd.concat([DATOS_PD_wh, DATOS_TEST_PD_wh ])\n",
    "\n",
    "print(NUEVO_DF[:10])"
   ]
  }
 ],
 "metadata": {
  "kernelspec": {
   "display_name": "Python 3 (ipykernel)",
   "language": "python",
   "name": "python3"
  },
  "language_info": {
   "codemirror_mode": {
    "name": "ipython",
    "version": 3
   },
   "file_extension": ".py",
   "mimetype": "text/x-python",
   "name": "python",
   "nbconvert_exporter": "python",
   "pygments_lexer": "ipython3",
   "version": "3.11.5"
  }
 },
 "nbformat": 4,
 "nbformat_minor": 5
}
